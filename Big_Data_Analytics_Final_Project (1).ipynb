{
 "cells": [
  {
   "cell_type": "markdown",
   "metadata": {},
   "source": [
    "#                              TV News Commercial Detection"
   ]
  },
  {
   "cell_type": "markdown",
   "metadata": {},
   "source": [
    "### Load The libraries"
   ]
  },
  {
   "cell_type": "markdown",
   "metadata": {},
   "source": [
    "\n",
    "import pandas as pd\n",
    "\n",
    "import findspark\n",
    "findspark.init()\n",
    "findspark.find()\n",
    "import pyspark\n",
    "from pyspark import SparkContext, SparkConf\n",
    "from pyspark.sql import SparkSession\n",
    "conf = pyspark.SparkConf().setAppName('appName2').setMaster('local')\n",
    "sc = pyspark.SparkContext(conf=conf)\n",
    "spark = SparkSession(sc)\n",
    "from pyspark.sql import SQLContext\n",
    "sqlContext = SQLContext(sc)\n"
   ]
  },
  {
   "cell_type": "code",
   "execution_count": 2,
   "metadata": {},
   "outputs": [],
   "source": [
    "# Functionality for computing features\n",
    "from pyspark.ml import feature\n",
    "# Functionality for regression\n",
    "from pyspark.ml import regression\n",
    "# Funcionality for classification\n",
    "from pyspark.ml import classification\n",
    "# Object for creating sequences of transformations\n",
    "from pyspark.ml import Pipeline,evaluation\n",
    "import re"
   ]
  },
  {
   "cell_type": "code",
   "execution_count": 3,
   "metadata": {},
   "outputs": [],
   "source": [
    "from pyspark.mllib.evaluation import BinaryClassificationMetrics, MulticlassMetrics"
   ]
  },
  {
   "cell_type": "code",
   "execution_count": 4,
   "metadata": {},
   "outputs": [],
   "source": [
    "from pyspark.sql import functions as fn\n",
    "import numpy as np\n",
    "from pyspark.ml.classification import LogisticRegression, RandomForestClassifier\n",
    "from pyspark.ml.classification import GBTClassifier\n",
    "from pyspark.ml import PipelineModel\n",
    "from pyspark.ml.feature import Imputer\n",
    "import seaborn as sns\n",
    "import pickle\n",
    "from pyspark.ml.classification import LinearSVC\n",
    "from pyspark.ml.tuning import CrossValidator, ParamGridBuilder\n",
    "from pyspark.ml.classification import GBTClassifier\n"
   ]
  },
  {
   "cell_type": "code",
   "execution_count": null,
   "metadata": {},
   "outputs": [],
   "source": [
    "import ipywidgets as widgets\n",
    "from ipywidgets import HBox, VBox\n",
    "from IPython.display import clear_output\n",
    "import pprint"
   ]
  },
  {
   "cell_type": "markdown",
   "metadata": {},
   "source": [
    "# Index"
   ]
  },
  {
   "cell_type": "markdown",
   "metadata": {},
   "source": [
    "- [Logistic Regression](#Logistic-Regression)\n",
    "- [Random Forest](#Random-Forest)\n",
    "- [Gradient Boosting](#Gradient-Boosting-Trees)\n",
    "- [GO TO DEMO](#Demo)"
   ]
  },
  {
   "cell_type": "markdown",
   "metadata": {},
   "source": [
    "## Data retrieval and cleaning"
   ]
  },
  {
   "cell_type": "markdown",
   "metadata": {},
   "source": [
    "Please find the dataset here:\n",
    "[TV commercial Data Set](https://archive.ics.uci.edu/ml/datasets/TV+News+Channel+Commercial+Detection+Dataset)\n",
    "\n",
    "steps:-\n",
    "\n",
    "- Download the zip folder\n",
    "- unzip it and give the path to the folder in the variable ' tvcommercials_path '"
   ]
  },
  {
   "cell_type": "markdown",
   "metadata": {},
   "source": [
    "The Function below will combine data from 5 TV news channels"
   ]
  },
  {
   "cell_type": "code",
   "execution_count": null,
   "metadata": {},
   "outputs": [],
   "source": [
    "tvcommercials_path = '/home/jovyan/ist718/Sourabh Ghosh Notebooks/'\n",
    "filename=['BBC','NDTV','CNNIBN','TIMESNOW','CNN']\n",
    "df_name = []\n",
    "def read_files(path):\n",
    "    for file in filename:\n",
    "        df_name.append(pd.read_table(path+file+'.txt', header=None))\n",
    "    return df_name"
   ]
  },
  {
   "cell_type": "code",
   "execution_count": null,
   "metadata": {},
   "outputs": [],
   "source": [
    "#Following function is performing data cleaning for producing the result in csv file from lib svm format\n",
    "def data_clean(df_actual):\n",
    "    s = df_actual[0].str.split(' ')\n",
    "    for x in s:\n",
    "        x[0] = re.sub('^', 'Label:', x[0])\n",
    "    m = [list(w for w in x if w)for x in s]\n",
    "    d = [dict(w.split(':') for w in x) for x in m]\n",
    "    cols = sorted(d, key=len, reverse=True)[0].keys()\n",
    "    df = pd.DataFrame.from_records(d,columns=cols)\n",
    "    df_cols = list(df.columns)\n",
    "    df_cols.remove('Label')\n",
    "    df_cols = list(map(int, df_cols))\n",
    "    df_cols.sort()\n",
    "    df_cols = list(map(str, df_cols))\n",
    "    df_cols.append('Label')\n",
    "    df = df[df_cols]\n",
    "    df = df.fillna('NA')\n",
    "    df.to_csv(\"TV_Commercials_Cleaned.csv\", index=False)"
   ]
  },
  {
   "cell_type": "code",
   "execution_count": null,
   "metadata": {},
   "outputs": [],
   "source": [
    "df_actual = read_files(tvcommercials_path)\n",
    "dataframe_tv = pd.concat(df_actual)\n",
    "data_clean(dataframe_tv)"
   ]
  },
  {
   "cell_type": "markdown",
   "metadata": {},
   "source": [
    "### Loading the combined data from 5 channels"
   ]
  },
  {
   "cell_type": "code",
   "execution_count": 5,
   "metadata": {},
   "outputs": [],
   "source": [
    "tv=pd.read_csv('C:/Users/mihir/Desktop/sem2/IST718/dataset/TV_Commercials_Cleaned.csv')"
   ]
  },
  {
   "cell_type": "code",
   "execution_count": 6,
   "metadata": {},
   "outputs": [
    {
     "data": {
      "text/plain": [
       "(129685, 205)"
      ]
     },
     "execution_count": 6,
     "metadata": {},
     "output_type": "execute_result"
    }
   ],
   "source": [
    "tv.shape"
   ]
  },
  {
   "cell_type": "code",
   "execution_count": 3,
   "metadata": {},
   "outputs": [
    {
     "ename": "NameError",
     "evalue": "name 'tv' is not defined",
     "output_type": "error",
     "traceback": [
      "\u001b[1;31m---------------------------------------------------------------------------\u001b[0m",
      "\u001b[1;31mNameError\u001b[0m                                 Traceback (most recent call last)",
      "\u001b[1;32m<ipython-input-3-8a8c93bcbde4>\u001b[0m in \u001b[0;36m<module>\u001b[1;34m\u001b[0m\n\u001b[1;32m----> 1\u001b[1;33m \u001b[0mimputed_tv\u001b[0m\u001b[1;33m=\u001b[0m\u001b[0mtv\u001b[0m\u001b[1;33m.\u001b[0m\u001b[0mloc\u001b[0m\u001b[1;33m[\u001b[0m\u001b[1;33m:\u001b[0m\u001b[1;33m,\u001b[0m\u001b[1;33m(\u001b[0m\u001b[1;33m(\u001b[0m\u001b[0mtv\u001b[0m\u001b[1;33m.\u001b[0m\u001b[0misnull\u001b[0m\u001b[1;33m(\u001b[0m\u001b[1;33m)\u001b[0m\u001b[1;33m.\u001b[0m\u001b[0msum\u001b[0m\u001b[1;33m(\u001b[0m\u001b[1;33m)\u001b[0m\u001b[1;33m/\u001b[0m\u001b[0mtv\u001b[0m\u001b[1;33m.\u001b[0m\u001b[0mshape\u001b[0m\u001b[1;33m[\u001b[0m\u001b[1;36m0\u001b[0m\u001b[1;33m]\u001b[0m\u001b[1;33m)\u001b[0m\u001b[1;33m*\u001b[0m\u001b[1;36m100\u001b[0m\u001b[1;33m)\u001b[0m\u001b[1;33m<\u001b[0m\u001b[1;36m25\u001b[0m\u001b[1;33m]\u001b[0m\u001b[1;33m\u001b[0m\u001b[1;33m\u001b[0m\u001b[0m\n\u001b[0m",
      "\u001b[1;31mNameError\u001b[0m: name 'tv' is not defined"
     ]
    }
   ],
   "source": [
    "#Removing columns having more than 25% null values \n",
    "imputed_tv=tv.loc[:,((tv.isnull().sum()/tv.shape[0])*100)<25]"
   ]
  },
  {
   "cell_type": "markdown",
   "metadata": {},
   "source": [
    "### Mapping Column numbers with column names"
   ]
  },
  {
   "cell_type": "code",
   "execution_count": null,
   "metadata": {},
   "outputs": [],
   "source": [
    "MotionDist=[2,3]\n",
    "FrameDiff=[4,5]\n",
    "ShortTime=[6,7]\n",
    "ZCR=[8,9]\n",
    "SpectralCentroid=[10,11]\n",
    "SpectralRoll=[12,13]\n",
    "SpectralFlux=[14,15]\n",
    "FundamentalFreq=[16,17]\n",
    "EdgeChange=[4124,4125]\n",
    "MotionDistbins=[*range(18, 59)]\n",
    "FrameDiffbins=[*range(59, 92)]\n",
    "TextAreaDistbins=[*range(92, 123)]\n",
    "BagAudioWordsbins=[*range(123,4124)] \n",
    "l_MotionDist=list()\n",
    "\n",
    "for m in range(0,len(MotionDistbins)):\n",
    "    l_MotionDist.append(\"Motion Distribution bin_\"+ str(MotionDistbins[m]))\n",
    "\n",
    "l_FrameDiff=list()\n",
    "for f in range(0,len(FrameDiffbins)):\n",
    "    l_FrameDiff.append(\"Frame Difference bin_\"+ str(FrameDiffbins[f]))\n",
    "    \n",
    "\n",
    "l_TextArea=list()\n",
    "for t in range(0,len(TextAreaDistbins)):\n",
    "    l_TextArea.append(\"Text Area Distribution bin_\"+ str(TextAreaDistbins[t]))\n",
    "\n",
    "l_BagAudioWords=list()\n",
    "for b in range(0,len(BagAudioWordsbins)):\n",
    "    l_BagAudioWords.append(\"Bag Audio Words bin_\"+ str(BagAudioWordsbins[b]))\n",
    "    \n",
    "tv_dict={ 1: \"Shot Length\" ,\n",
    "        MotionDist[0] : \"Motion Distribution Mean\",\n",
    "        MotionDist[1] : \"Motion Distribution Variance\",\n",
    "        FrameDiff[0]: 'Frame Difference Distribution Mean',\n",
    "        FrameDiff[1]: 'Frame Difference Distribution Variance',\n",
    "        ShortTime[0] : 'Short time energy Mean',\n",
    "        ShortTime[1] : 'Short time energy Variance',\n",
    "        ZCR[0] : 'ZCR Mean',\n",
    "        ZCR[1] : 'ZCR Variance',\n",
    "        SpectralCentroid[0]:'SpectralCentroid Mean',\n",
    "        SpectralCentroid[1]:'SpectralCentroid Variance',\n",
    "        SpectralRoll[0]: 'Spectral Roll off Mean',\n",
    "        SpectralRoll[1]: 'Spectral Roll off Variance',\n",
    "        SpectralFlux[0]:'Spectral Flux Mean',\n",
    "        SpectralFlux[1]:'Spectral Flux Variance',\n",
    "        FundamentalFreq[0]: 'Fundamental Frequecy Mean',\n",
    "        FundamentalFreq[1]:'Fundamental Frequecy Variance',\n",
    "        EdgeChange[0]:'Edge Change Ratio Mean',\n",
    "        EdgeChange[1]:'Edge Change Ratio Variance',       \n",
    "}\n",
    "\n",
    "for i in range(0,len(MotionDistbins)):\n",
    "    tv_dict[MotionDistbins[i]] = l_MotionDist[i]\n",
    "    \n",
    "for j in range(0,len(FrameDiffbins)):\n",
    "    tv_dict[FrameDiffbins[j]] = l_FrameDiff[j]\n",
    "    \n",
    "for k in range(0,len(TextAreaDistbins)):\n",
    "    tv_dict[TextAreaDistbins[k]] = l_TextArea[k]\n",
    "\n",
    "for p in range(0,len(BagAudioWordsbins)):\n",
    "    tv_dict[BagAudioWordsbins[p]] = l_BagAudioWords[p]"
   ]
  },
  {
   "cell_type": "code",
   "execution_count": null,
   "metadata": {},
   "outputs": [],
   "source": [
    "pickle.dump(tv_dict,open('tv_pickle1.p','wb'))"
   ]
  },
  {
   "cell_type": "code",
   "execution_count": 14,
   "metadata": {},
   "outputs": [],
   "source": [
    "objdict=open('C:/Users/mihir/Desktop/sem2/IST718/tv_pickle1.p','rb')\n"
   ]
  },
  {
   "cell_type": "code",
   "execution_count": 15,
   "metadata": {},
   "outputs": [],
   "source": [
    "namedict=pickle.load(objdict)"
   ]
  },
  {
   "cell_type": "code",
   "execution_count": 16,
   "metadata": {},
   "outputs": [
    {
     "data": {
      "text/plain": [
       "{1: 'Shot Length',\n",
       " 2: 'Motion Distribution Mean',\n",
       " 3: 'Motion Distribution Variance',\n",
       " 4: 'Frame Difference Distribution Mean',\n",
       " 5: 'Frame Difference Distribution Variance',\n",
       " 6: 'Short time energy Mean',\n",
       " 7: 'Short time energy Variance',\n",
       " 8: 'ZCR Mean',\n",
       " 9: 'ZCR Variance',\n",
       " 10: 'SpectralCentroid Mean',\n",
       " 11: 'SpectralCentroid Variance',\n",
       " 12: 'Spectral Roll off Mean',\n",
       " 13: 'Spectral Roll off Variance',\n",
       " 14: 'Spectral Flux Mean',\n",
       " 15: 'Spectral Flux Variance',\n",
       " 16: 'Fundamental Frequecy Mean',\n",
       " 17: 'Fundamental Frequecy Variance',\n",
       " 4124: 'Edge Change Ratio Mean',\n",
       " 4125: 'Edge Change Ratio Variance',\n",
       " 18: 'Motion Distribution bin_18',\n",
       " 19: 'Motion Distribution bin_19',\n",
       " 20: 'Motion Distribution bin_20',\n",
       " 21: 'Motion Distribution bin_21',\n",
       " 22: 'Motion Distribution bin_22',\n",
       " 23: 'Motion Distribution bin_23',\n",
       " 24: 'Motion Distribution bin_24',\n",
       " 25: 'Motion Distribution bin_25',\n",
       " 26: 'Motion Distribution bin_26',\n",
       " 27: 'Motion Distribution bin_27',\n",
       " 28: 'Motion Distribution bin_28',\n",
       " 29: 'Motion Distribution bin_29',\n",
       " 30: 'Motion Distribution bin_30',\n",
       " 31: 'Motion Distribution bin_31',\n",
       " 32: 'Motion Distribution bin_32',\n",
       " 33: 'Motion Distribution bin_33',\n",
       " 34: 'Motion Distribution bin_34',\n",
       " 35: 'Motion Distribution bin_35',\n",
       " 36: 'Motion Distribution bin_36',\n",
       " 37: 'Motion Distribution bin_37',\n",
       " 38: 'Motion Distribution bin_38',\n",
       " 39: 'Motion Distribution bin_39',\n",
       " 40: 'Motion Distribution bin_40',\n",
       " 41: 'Motion Distribution bin_41',\n",
       " 42: 'Motion Distribution bin_42',\n",
       " 43: 'Motion Distribution bin_43',\n",
       " 44: 'Motion Distribution bin_44',\n",
       " 45: 'Motion Distribution bin_45',\n",
       " 46: 'Motion Distribution bin_46',\n",
       " 47: 'Motion Distribution bin_47',\n",
       " 48: 'Motion Distribution bin_48',\n",
       " 49: 'Motion Distribution bin_49',\n",
       " 50: 'Motion Distribution bin_50',\n",
       " 51: 'Motion Distribution bin_51',\n",
       " 52: 'Motion Distribution bin_52',\n",
       " 53: 'Motion Distribution bin_53',\n",
       " 54: 'Motion Distribution bin_54',\n",
       " 55: 'Motion Distribution bin_55',\n",
       " 56: 'Motion Distribution bin_56',\n",
       " 57: 'Motion Distribution bin_57',\n",
       " 58: 'Motion Distribution bin_58',\n",
       " 59: 'Frame Difference bin_59',\n",
       " 60: 'Frame Difference bin_60',\n",
       " 61: 'Frame Difference bin_61',\n",
       " 62: 'Frame Difference bin_62',\n",
       " 63: 'Frame Difference bin_63',\n",
       " 64: 'Frame Difference bin_64',\n",
       " 65: 'Frame Difference bin_65',\n",
       " 66: 'Frame Difference bin_66',\n",
       " 67: 'Frame Difference bin_67',\n",
       " 68: 'Frame Difference bin_68',\n",
       " 69: 'Frame Difference bin_69',\n",
       " 70: 'Frame Difference bin_70',\n",
       " 71: 'Frame Difference bin_71',\n",
       " 72: 'Frame Difference bin_72',\n",
       " 73: 'Frame Difference bin_73',\n",
       " 74: 'Frame Difference bin_74',\n",
       " 75: 'Frame Difference bin_75',\n",
       " 76: 'Frame Difference bin_76',\n",
       " 77: 'Frame Difference bin_77',\n",
       " 78: 'Frame Difference bin_78',\n",
       " 79: 'Frame Difference bin_79',\n",
       " 80: 'Frame Difference bin_80',\n",
       " 81: 'Frame Difference bin_81',\n",
       " 82: 'Frame Difference bin_82',\n",
       " 83: 'Frame Difference bin_83',\n",
       " 84: 'Frame Difference bin_84',\n",
       " 85: 'Frame Difference bin_85',\n",
       " 86: 'Frame Difference bin_86',\n",
       " 87: 'Frame Difference bin_87',\n",
       " 88: 'Frame Difference bin_88',\n",
       " 89: 'Frame Difference bin_89',\n",
       " 90: 'Frame Difference bin_90',\n",
       " 91: 'Frame Difference bin_91',\n",
       " 92: 'Text Area Distribution bin_92',\n",
       " 93: 'Text Area Distribution bin_93',\n",
       " 94: 'Text Area Distribution bin_94',\n",
       " 95: 'Text Area Distribution bin_95',\n",
       " 96: 'Text Area Distribution bin_96',\n",
       " 97: 'Text Area Distribution bin_97',\n",
       " 98: 'Text Area Distribution bin_98',\n",
       " 99: 'Text Area Distribution bin_99',\n",
       " 100: 'Text Area Distribution bin_100',\n",
       " 101: 'Text Area Distribution bin_101',\n",
       " 102: 'Text Area Distribution bin_102',\n",
       " 103: 'Text Area Distribution bin_103',\n",
       " 104: 'Text Area Distribution bin_104',\n",
       " 105: 'Text Area Distribution bin_105',\n",
       " 106: 'Text Area Distribution bin_106',\n",
       " 107: 'Text Area Distribution bin_107',\n",
       " 108: 'Text Area Distribution bin_108',\n",
       " 109: 'Text Area Distribution bin_109',\n",
       " 110: 'Text Area Distribution bin_110',\n",
       " 111: 'Text Area Distribution bin_111',\n",
       " 112: 'Text Area Distribution bin_112',\n",
       " 113: 'Text Area Distribution bin_113',\n",
       " 114: 'Text Area Distribution bin_114',\n",
       " 115: 'Text Area Distribution bin_115',\n",
       " 116: 'Text Area Distribution bin_116',\n",
       " 117: 'Text Area Distribution bin_117',\n",
       " 118: 'Text Area Distribution bin_118',\n",
       " 119: 'Text Area Distribution bin_119',\n",
       " 120: 'Text Area Distribution bin_120',\n",
       " 121: 'Text Area Distribution bin_121',\n",
       " 122: 'Text Area Distribution bin_122',\n",
       " 123: 'Bag Audio Words bin_123',\n",
       " 124: 'Bag Audio Words bin_124',\n",
       " 125: 'Bag Audio Words bin_125',\n",
       " 126: 'Bag Audio Words bin_126',\n",
       " 127: 'Bag Audio Words bin_127',\n",
       " 128: 'Bag Audio Words bin_128',\n",
       " 129: 'Bag Audio Words bin_129',\n",
       " 130: 'Bag Audio Words bin_130',\n",
       " 131: 'Bag Audio Words bin_131',\n",
       " 132: 'Bag Audio Words bin_132',\n",
       " 133: 'Bag Audio Words bin_133',\n",
       " 134: 'Bag Audio Words bin_134',\n",
       " 135: 'Bag Audio Words bin_135',\n",
       " 136: 'Bag Audio Words bin_136',\n",
       " 137: 'Bag Audio Words bin_137',\n",
       " 138: 'Bag Audio Words bin_138',\n",
       " 139: 'Bag Audio Words bin_139',\n",
       " 140: 'Bag Audio Words bin_140',\n",
       " 141: 'Bag Audio Words bin_141',\n",
       " 142: 'Bag Audio Words bin_142',\n",
       " 143: 'Bag Audio Words bin_143',\n",
       " 144: 'Bag Audio Words bin_144',\n",
       " 145: 'Bag Audio Words bin_145',\n",
       " 146: 'Bag Audio Words bin_146',\n",
       " 147: 'Bag Audio Words bin_147',\n",
       " 148: 'Bag Audio Words bin_148',\n",
       " 149: 'Bag Audio Words bin_149',\n",
       " 150: 'Bag Audio Words bin_150',\n",
       " 151: 'Bag Audio Words bin_151',\n",
       " 152: 'Bag Audio Words bin_152',\n",
       " 153: 'Bag Audio Words bin_153',\n",
       " 154: 'Bag Audio Words bin_154',\n",
       " 155: 'Bag Audio Words bin_155',\n",
       " 156: 'Bag Audio Words bin_156',\n",
       " 157: 'Bag Audio Words bin_157',\n",
       " 158: 'Bag Audio Words bin_158',\n",
       " 159: 'Bag Audio Words bin_159',\n",
       " 160: 'Bag Audio Words bin_160',\n",
       " 161: 'Bag Audio Words bin_161',\n",
       " 162: 'Bag Audio Words bin_162',\n",
       " 163: 'Bag Audio Words bin_163',\n",
       " 164: 'Bag Audio Words bin_164',\n",
       " 165: 'Bag Audio Words bin_165',\n",
       " 166: 'Bag Audio Words bin_166',\n",
       " 167: 'Bag Audio Words bin_167',\n",
       " 168: 'Bag Audio Words bin_168',\n",
       " 169: 'Bag Audio Words bin_169',\n",
       " 170: 'Bag Audio Words bin_170',\n",
       " 171: 'Bag Audio Words bin_171',\n",
       " 172: 'Bag Audio Words bin_172',\n",
       " 173: 'Bag Audio Words bin_173',\n",
       " 174: 'Bag Audio Words bin_174',\n",
       " 175: 'Bag Audio Words bin_175',\n",
       " 176: 'Bag Audio Words bin_176',\n",
       " 177: 'Bag Audio Words bin_177',\n",
       " 178: 'Bag Audio Words bin_178',\n",
       " 179: 'Bag Audio Words bin_179',\n",
       " 180: 'Bag Audio Words bin_180',\n",
       " 181: 'Bag Audio Words bin_181',\n",
       " 182: 'Bag Audio Words bin_182',\n",
       " 183: 'Bag Audio Words bin_183',\n",
       " 184: 'Bag Audio Words bin_184',\n",
       " 185: 'Bag Audio Words bin_185',\n",
       " 186: 'Bag Audio Words bin_186',\n",
       " 187: 'Bag Audio Words bin_187',\n",
       " 188: 'Bag Audio Words bin_188',\n",
       " 189: 'Bag Audio Words bin_189',\n",
       " 190: 'Bag Audio Words bin_190',\n",
       " 191: 'Bag Audio Words bin_191',\n",
       " 192: 'Bag Audio Words bin_192',\n",
       " 193: 'Bag Audio Words bin_193',\n",
       " 194: 'Bag Audio Words bin_194',\n",
       " 195: 'Bag Audio Words bin_195',\n",
       " 196: 'Bag Audio Words bin_196',\n",
       " 197: 'Bag Audio Words bin_197',\n",
       " 198: 'Bag Audio Words bin_198',\n",
       " 199: 'Bag Audio Words bin_199',\n",
       " 200: 'Bag Audio Words bin_200',\n",
       " 201: 'Bag Audio Words bin_201',\n",
       " 202: 'Bag Audio Words bin_202',\n",
       " 203: 'Bag Audio Words bin_203',\n",
       " 204: 'Bag Audio Words bin_204',\n",
       " 205: 'Bag Audio Words bin_205',\n",
       " 206: 'Bag Audio Words bin_206',\n",
       " 207: 'Bag Audio Words bin_207',\n",
       " 208: 'Bag Audio Words bin_208',\n",
       " 209: 'Bag Audio Words bin_209',\n",
       " 210: 'Bag Audio Words bin_210',\n",
       " 211: 'Bag Audio Words bin_211',\n",
       " 212: 'Bag Audio Words bin_212',\n",
       " 213: 'Bag Audio Words bin_213',\n",
       " 214: 'Bag Audio Words bin_214',\n",
       " 215: 'Bag Audio Words bin_215',\n",
       " 216: 'Bag Audio Words bin_216',\n",
       " 217: 'Bag Audio Words bin_217',\n",
       " 218: 'Bag Audio Words bin_218',\n",
       " 219: 'Bag Audio Words bin_219',\n",
       " 220: 'Bag Audio Words bin_220',\n",
       " 221: 'Bag Audio Words bin_221',\n",
       " 222: 'Bag Audio Words bin_222',\n",
       " 223: 'Bag Audio Words bin_223',\n",
       " 224: 'Bag Audio Words bin_224',\n",
       " 225: 'Bag Audio Words bin_225',\n",
       " 226: 'Bag Audio Words bin_226',\n",
       " 227: 'Bag Audio Words bin_227',\n",
       " 228: 'Bag Audio Words bin_228',\n",
       " 229: 'Bag Audio Words bin_229',\n",
       " 230: 'Bag Audio Words bin_230',\n",
       " 231: 'Bag Audio Words bin_231',\n",
       " 232: 'Bag Audio Words bin_232',\n",
       " 233: 'Bag Audio Words bin_233',\n",
       " 234: 'Bag Audio Words bin_234',\n",
       " 235: 'Bag Audio Words bin_235',\n",
       " 236: 'Bag Audio Words bin_236',\n",
       " 237: 'Bag Audio Words bin_237',\n",
       " 238: 'Bag Audio Words bin_238',\n",
       " 239: 'Bag Audio Words bin_239',\n",
       " 240: 'Bag Audio Words bin_240',\n",
       " 241: 'Bag Audio Words bin_241',\n",
       " 242: 'Bag Audio Words bin_242',\n",
       " 243: 'Bag Audio Words bin_243',\n",
       " 244: 'Bag Audio Words bin_244',\n",
       " 245: 'Bag Audio Words bin_245',\n",
       " 246: 'Bag Audio Words bin_246',\n",
       " 247: 'Bag Audio Words bin_247',\n",
       " 248: 'Bag Audio Words bin_248',\n",
       " 249: 'Bag Audio Words bin_249',\n",
       " 250: 'Bag Audio Words bin_250',\n",
       " 251: 'Bag Audio Words bin_251',\n",
       " 252: 'Bag Audio Words bin_252',\n",
       " 253: 'Bag Audio Words bin_253',\n",
       " 254: 'Bag Audio Words bin_254',\n",
       " 255: 'Bag Audio Words bin_255',\n",
       " 256: 'Bag Audio Words bin_256',\n",
       " 257: 'Bag Audio Words bin_257',\n",
       " 258: 'Bag Audio Words bin_258',\n",
       " 259: 'Bag Audio Words bin_259',\n",
       " 260: 'Bag Audio Words bin_260',\n",
       " 261: 'Bag Audio Words bin_261',\n",
       " 262: 'Bag Audio Words bin_262',\n",
       " 263: 'Bag Audio Words bin_263',\n",
       " 264: 'Bag Audio Words bin_264',\n",
       " 265: 'Bag Audio Words bin_265',\n",
       " 266: 'Bag Audio Words bin_266',\n",
       " 267: 'Bag Audio Words bin_267',\n",
       " 268: 'Bag Audio Words bin_268',\n",
       " 269: 'Bag Audio Words bin_269',\n",
       " 270: 'Bag Audio Words bin_270',\n",
       " 271: 'Bag Audio Words bin_271',\n",
       " 272: 'Bag Audio Words bin_272',\n",
       " 273: 'Bag Audio Words bin_273',\n",
       " 274: 'Bag Audio Words bin_274',\n",
       " 275: 'Bag Audio Words bin_275',\n",
       " 276: 'Bag Audio Words bin_276',\n",
       " 277: 'Bag Audio Words bin_277',\n",
       " 278: 'Bag Audio Words bin_278',\n",
       " 279: 'Bag Audio Words bin_279',\n",
       " 280: 'Bag Audio Words bin_280',\n",
       " 281: 'Bag Audio Words bin_281',\n",
       " 282: 'Bag Audio Words bin_282',\n",
       " 283: 'Bag Audio Words bin_283',\n",
       " 284: 'Bag Audio Words bin_284',\n",
       " 285: 'Bag Audio Words bin_285',\n",
       " 286: 'Bag Audio Words bin_286',\n",
       " 287: 'Bag Audio Words bin_287',\n",
       " 288: 'Bag Audio Words bin_288',\n",
       " 289: 'Bag Audio Words bin_289',\n",
       " 290: 'Bag Audio Words bin_290',\n",
       " 291: 'Bag Audio Words bin_291',\n",
       " 292: 'Bag Audio Words bin_292',\n",
       " 293: 'Bag Audio Words bin_293',\n",
       " 294: 'Bag Audio Words bin_294',\n",
       " 295: 'Bag Audio Words bin_295',\n",
       " 296: 'Bag Audio Words bin_296',\n",
       " 297: 'Bag Audio Words bin_297',\n",
       " 298: 'Bag Audio Words bin_298',\n",
       " 299: 'Bag Audio Words bin_299',\n",
       " 300: 'Bag Audio Words bin_300',\n",
       " 301: 'Bag Audio Words bin_301',\n",
       " 302: 'Bag Audio Words bin_302',\n",
       " 303: 'Bag Audio Words bin_303',\n",
       " 304: 'Bag Audio Words bin_304',\n",
       " 305: 'Bag Audio Words bin_305',\n",
       " 306: 'Bag Audio Words bin_306',\n",
       " 307: 'Bag Audio Words bin_307',\n",
       " 308: 'Bag Audio Words bin_308',\n",
       " 309: 'Bag Audio Words bin_309',\n",
       " 310: 'Bag Audio Words bin_310',\n",
       " 311: 'Bag Audio Words bin_311',\n",
       " 312: 'Bag Audio Words bin_312',\n",
       " 313: 'Bag Audio Words bin_313',\n",
       " 314: 'Bag Audio Words bin_314',\n",
       " 315: 'Bag Audio Words bin_315',\n",
       " 316: 'Bag Audio Words bin_316',\n",
       " 317: 'Bag Audio Words bin_317',\n",
       " 318: 'Bag Audio Words bin_318',\n",
       " 319: 'Bag Audio Words bin_319',\n",
       " 320: 'Bag Audio Words bin_320',\n",
       " 321: 'Bag Audio Words bin_321',\n",
       " 322: 'Bag Audio Words bin_322',\n",
       " 323: 'Bag Audio Words bin_323',\n",
       " 324: 'Bag Audio Words bin_324',\n",
       " 325: 'Bag Audio Words bin_325',\n",
       " 326: 'Bag Audio Words bin_326',\n",
       " 327: 'Bag Audio Words bin_327',\n",
       " 328: 'Bag Audio Words bin_328',\n",
       " 329: 'Bag Audio Words bin_329',\n",
       " 330: 'Bag Audio Words bin_330',\n",
       " 331: 'Bag Audio Words bin_331',\n",
       " 332: 'Bag Audio Words bin_332',\n",
       " 333: 'Bag Audio Words bin_333',\n",
       " 334: 'Bag Audio Words bin_334',\n",
       " 335: 'Bag Audio Words bin_335',\n",
       " 336: 'Bag Audio Words bin_336',\n",
       " 337: 'Bag Audio Words bin_337',\n",
       " 338: 'Bag Audio Words bin_338',\n",
       " 339: 'Bag Audio Words bin_339',\n",
       " 340: 'Bag Audio Words bin_340',\n",
       " 341: 'Bag Audio Words bin_341',\n",
       " 342: 'Bag Audio Words bin_342',\n",
       " 343: 'Bag Audio Words bin_343',\n",
       " 344: 'Bag Audio Words bin_344',\n",
       " 345: 'Bag Audio Words bin_345',\n",
       " 346: 'Bag Audio Words bin_346',\n",
       " 347: 'Bag Audio Words bin_347',\n",
       " 348: 'Bag Audio Words bin_348',\n",
       " 349: 'Bag Audio Words bin_349',\n",
       " 350: 'Bag Audio Words bin_350',\n",
       " 351: 'Bag Audio Words bin_351',\n",
       " 352: 'Bag Audio Words bin_352',\n",
       " 353: 'Bag Audio Words bin_353',\n",
       " 354: 'Bag Audio Words bin_354',\n",
       " 355: 'Bag Audio Words bin_355',\n",
       " 356: 'Bag Audio Words bin_356',\n",
       " 357: 'Bag Audio Words bin_357',\n",
       " 358: 'Bag Audio Words bin_358',\n",
       " 359: 'Bag Audio Words bin_359',\n",
       " 360: 'Bag Audio Words bin_360',\n",
       " 361: 'Bag Audio Words bin_361',\n",
       " 362: 'Bag Audio Words bin_362',\n",
       " 363: 'Bag Audio Words bin_363',\n",
       " 364: 'Bag Audio Words bin_364',\n",
       " 365: 'Bag Audio Words bin_365',\n",
       " 366: 'Bag Audio Words bin_366',\n",
       " 367: 'Bag Audio Words bin_367',\n",
       " 368: 'Bag Audio Words bin_368',\n",
       " 369: 'Bag Audio Words bin_369',\n",
       " 370: 'Bag Audio Words bin_370',\n",
       " 371: 'Bag Audio Words bin_371',\n",
       " 372: 'Bag Audio Words bin_372',\n",
       " 373: 'Bag Audio Words bin_373',\n",
       " 374: 'Bag Audio Words bin_374',\n",
       " 375: 'Bag Audio Words bin_375',\n",
       " 376: 'Bag Audio Words bin_376',\n",
       " 377: 'Bag Audio Words bin_377',\n",
       " 378: 'Bag Audio Words bin_378',\n",
       " 379: 'Bag Audio Words bin_379',\n",
       " 380: 'Bag Audio Words bin_380',\n",
       " 381: 'Bag Audio Words bin_381',\n",
       " 382: 'Bag Audio Words bin_382',\n",
       " 383: 'Bag Audio Words bin_383',\n",
       " 384: 'Bag Audio Words bin_384',\n",
       " 385: 'Bag Audio Words bin_385',\n",
       " 386: 'Bag Audio Words bin_386',\n",
       " 387: 'Bag Audio Words bin_387',\n",
       " 388: 'Bag Audio Words bin_388',\n",
       " 389: 'Bag Audio Words bin_389',\n",
       " 390: 'Bag Audio Words bin_390',\n",
       " 391: 'Bag Audio Words bin_391',\n",
       " 392: 'Bag Audio Words bin_392',\n",
       " 393: 'Bag Audio Words bin_393',\n",
       " 394: 'Bag Audio Words bin_394',\n",
       " 395: 'Bag Audio Words bin_395',\n",
       " 396: 'Bag Audio Words bin_396',\n",
       " 397: 'Bag Audio Words bin_397',\n",
       " 398: 'Bag Audio Words bin_398',\n",
       " 399: 'Bag Audio Words bin_399',\n",
       " 400: 'Bag Audio Words bin_400',\n",
       " 401: 'Bag Audio Words bin_401',\n",
       " 402: 'Bag Audio Words bin_402',\n",
       " 403: 'Bag Audio Words bin_403',\n",
       " 404: 'Bag Audio Words bin_404',\n",
       " 405: 'Bag Audio Words bin_405',\n",
       " 406: 'Bag Audio Words bin_406',\n",
       " 407: 'Bag Audio Words bin_407',\n",
       " 408: 'Bag Audio Words bin_408',\n",
       " 409: 'Bag Audio Words bin_409',\n",
       " 410: 'Bag Audio Words bin_410',\n",
       " 411: 'Bag Audio Words bin_411',\n",
       " 412: 'Bag Audio Words bin_412',\n",
       " 413: 'Bag Audio Words bin_413',\n",
       " 414: 'Bag Audio Words bin_414',\n",
       " 415: 'Bag Audio Words bin_415',\n",
       " 416: 'Bag Audio Words bin_416',\n",
       " 417: 'Bag Audio Words bin_417',\n",
       " 418: 'Bag Audio Words bin_418',\n",
       " 419: 'Bag Audio Words bin_419',\n",
       " 420: 'Bag Audio Words bin_420',\n",
       " 421: 'Bag Audio Words bin_421',\n",
       " 422: 'Bag Audio Words bin_422',\n",
       " 423: 'Bag Audio Words bin_423',\n",
       " 424: 'Bag Audio Words bin_424',\n",
       " 425: 'Bag Audio Words bin_425',\n",
       " 426: 'Bag Audio Words bin_426',\n",
       " 427: 'Bag Audio Words bin_427',\n",
       " 428: 'Bag Audio Words bin_428',\n",
       " 429: 'Bag Audio Words bin_429',\n",
       " 430: 'Bag Audio Words bin_430',\n",
       " 431: 'Bag Audio Words bin_431',\n",
       " 432: 'Bag Audio Words bin_432',\n",
       " 433: 'Bag Audio Words bin_433',\n",
       " 434: 'Bag Audio Words bin_434',\n",
       " 435: 'Bag Audio Words bin_435',\n",
       " 436: 'Bag Audio Words bin_436',\n",
       " 437: 'Bag Audio Words bin_437',\n",
       " 438: 'Bag Audio Words bin_438',\n",
       " 439: 'Bag Audio Words bin_439',\n",
       " 440: 'Bag Audio Words bin_440',\n",
       " 441: 'Bag Audio Words bin_441',\n",
       " 442: 'Bag Audio Words bin_442',\n",
       " 443: 'Bag Audio Words bin_443',\n",
       " 444: 'Bag Audio Words bin_444',\n",
       " 445: 'Bag Audio Words bin_445',\n",
       " 446: 'Bag Audio Words bin_446',\n",
       " 447: 'Bag Audio Words bin_447',\n",
       " 448: 'Bag Audio Words bin_448',\n",
       " 449: 'Bag Audio Words bin_449',\n",
       " 450: 'Bag Audio Words bin_450',\n",
       " 451: 'Bag Audio Words bin_451',\n",
       " 452: 'Bag Audio Words bin_452',\n",
       " 453: 'Bag Audio Words bin_453',\n",
       " 454: 'Bag Audio Words bin_454',\n",
       " 455: 'Bag Audio Words bin_455',\n",
       " 456: 'Bag Audio Words bin_456',\n",
       " 457: 'Bag Audio Words bin_457',\n",
       " 458: 'Bag Audio Words bin_458',\n",
       " 459: 'Bag Audio Words bin_459',\n",
       " 460: 'Bag Audio Words bin_460',\n",
       " 461: 'Bag Audio Words bin_461',\n",
       " 462: 'Bag Audio Words bin_462',\n",
       " 463: 'Bag Audio Words bin_463',\n",
       " 464: 'Bag Audio Words bin_464',\n",
       " 465: 'Bag Audio Words bin_465',\n",
       " 466: 'Bag Audio Words bin_466',\n",
       " 467: 'Bag Audio Words bin_467',\n",
       " 468: 'Bag Audio Words bin_468',\n",
       " 469: 'Bag Audio Words bin_469',\n",
       " 470: 'Bag Audio Words bin_470',\n",
       " 471: 'Bag Audio Words bin_471',\n",
       " 472: 'Bag Audio Words bin_472',\n",
       " 473: 'Bag Audio Words bin_473',\n",
       " 474: 'Bag Audio Words bin_474',\n",
       " 475: 'Bag Audio Words bin_475',\n",
       " 476: 'Bag Audio Words bin_476',\n",
       " 477: 'Bag Audio Words bin_477',\n",
       " 478: 'Bag Audio Words bin_478',\n",
       " 479: 'Bag Audio Words bin_479',\n",
       " 480: 'Bag Audio Words bin_480',\n",
       " 481: 'Bag Audio Words bin_481',\n",
       " 482: 'Bag Audio Words bin_482',\n",
       " 483: 'Bag Audio Words bin_483',\n",
       " 484: 'Bag Audio Words bin_484',\n",
       " 485: 'Bag Audio Words bin_485',\n",
       " 486: 'Bag Audio Words bin_486',\n",
       " 487: 'Bag Audio Words bin_487',\n",
       " 488: 'Bag Audio Words bin_488',\n",
       " 489: 'Bag Audio Words bin_489',\n",
       " 490: 'Bag Audio Words bin_490',\n",
       " 491: 'Bag Audio Words bin_491',\n",
       " 492: 'Bag Audio Words bin_492',\n",
       " 493: 'Bag Audio Words bin_493',\n",
       " 494: 'Bag Audio Words bin_494',\n",
       " 495: 'Bag Audio Words bin_495',\n",
       " 496: 'Bag Audio Words bin_496',\n",
       " 497: 'Bag Audio Words bin_497',\n",
       " 498: 'Bag Audio Words bin_498',\n",
       " 499: 'Bag Audio Words bin_499',\n",
       " 500: 'Bag Audio Words bin_500',\n",
       " 501: 'Bag Audio Words bin_501',\n",
       " 502: 'Bag Audio Words bin_502',\n",
       " 503: 'Bag Audio Words bin_503',\n",
       " 504: 'Bag Audio Words bin_504',\n",
       " 505: 'Bag Audio Words bin_505',\n",
       " 506: 'Bag Audio Words bin_506',\n",
       " 507: 'Bag Audio Words bin_507',\n",
       " 508: 'Bag Audio Words bin_508',\n",
       " 509: 'Bag Audio Words bin_509',\n",
       " 510: 'Bag Audio Words bin_510',\n",
       " 511: 'Bag Audio Words bin_511',\n",
       " 512: 'Bag Audio Words bin_512',\n",
       " 513: 'Bag Audio Words bin_513',\n",
       " 514: 'Bag Audio Words bin_514',\n",
       " 515: 'Bag Audio Words bin_515',\n",
       " 516: 'Bag Audio Words bin_516',\n",
       " 517: 'Bag Audio Words bin_517',\n",
       " 518: 'Bag Audio Words bin_518',\n",
       " 519: 'Bag Audio Words bin_519',\n",
       " 520: 'Bag Audio Words bin_520',\n",
       " 521: 'Bag Audio Words bin_521',\n",
       " 522: 'Bag Audio Words bin_522',\n",
       " 523: 'Bag Audio Words bin_523',\n",
       " 524: 'Bag Audio Words bin_524',\n",
       " 525: 'Bag Audio Words bin_525',\n",
       " 526: 'Bag Audio Words bin_526',\n",
       " 527: 'Bag Audio Words bin_527',\n",
       " 528: 'Bag Audio Words bin_528',\n",
       " 529: 'Bag Audio Words bin_529',\n",
       " 530: 'Bag Audio Words bin_530',\n",
       " 531: 'Bag Audio Words bin_531',\n",
       " 532: 'Bag Audio Words bin_532',\n",
       " 533: 'Bag Audio Words bin_533',\n",
       " 534: 'Bag Audio Words bin_534',\n",
       " 535: 'Bag Audio Words bin_535',\n",
       " 536: 'Bag Audio Words bin_536',\n",
       " 537: 'Bag Audio Words bin_537',\n",
       " 538: 'Bag Audio Words bin_538',\n",
       " 539: 'Bag Audio Words bin_539',\n",
       " 540: 'Bag Audio Words bin_540',\n",
       " 541: 'Bag Audio Words bin_541',\n",
       " 542: 'Bag Audio Words bin_542',\n",
       " 543: 'Bag Audio Words bin_543',\n",
       " 544: 'Bag Audio Words bin_544',\n",
       " 545: 'Bag Audio Words bin_545',\n",
       " 546: 'Bag Audio Words bin_546',\n",
       " 547: 'Bag Audio Words bin_547',\n",
       " 548: 'Bag Audio Words bin_548',\n",
       " 549: 'Bag Audio Words bin_549',\n",
       " 550: 'Bag Audio Words bin_550',\n",
       " 551: 'Bag Audio Words bin_551',\n",
       " 552: 'Bag Audio Words bin_552',\n",
       " 553: 'Bag Audio Words bin_553',\n",
       " 554: 'Bag Audio Words bin_554',\n",
       " 555: 'Bag Audio Words bin_555',\n",
       " 556: 'Bag Audio Words bin_556',\n",
       " 557: 'Bag Audio Words bin_557',\n",
       " 558: 'Bag Audio Words bin_558',\n",
       " 559: 'Bag Audio Words bin_559',\n",
       " 560: 'Bag Audio Words bin_560',\n",
       " 561: 'Bag Audio Words bin_561',\n",
       " 562: 'Bag Audio Words bin_562',\n",
       " 563: 'Bag Audio Words bin_563',\n",
       " 564: 'Bag Audio Words bin_564',\n",
       " 565: 'Bag Audio Words bin_565',\n",
       " 566: 'Bag Audio Words bin_566',\n",
       " 567: 'Bag Audio Words bin_567',\n",
       " 568: 'Bag Audio Words bin_568',\n",
       " 569: 'Bag Audio Words bin_569',\n",
       " 570: 'Bag Audio Words bin_570',\n",
       " 571: 'Bag Audio Words bin_571',\n",
       " 572: 'Bag Audio Words bin_572',\n",
       " 573: 'Bag Audio Words bin_573',\n",
       " 574: 'Bag Audio Words bin_574',\n",
       " 575: 'Bag Audio Words bin_575',\n",
       " 576: 'Bag Audio Words bin_576',\n",
       " 577: 'Bag Audio Words bin_577',\n",
       " 578: 'Bag Audio Words bin_578',\n",
       " 579: 'Bag Audio Words bin_579',\n",
       " 580: 'Bag Audio Words bin_580',\n",
       " 581: 'Bag Audio Words bin_581',\n",
       " 582: 'Bag Audio Words bin_582',\n",
       " 583: 'Bag Audio Words bin_583',\n",
       " 584: 'Bag Audio Words bin_584',\n",
       " 585: 'Bag Audio Words bin_585',\n",
       " 586: 'Bag Audio Words bin_586',\n",
       " 587: 'Bag Audio Words bin_587',\n",
       " 588: 'Bag Audio Words bin_588',\n",
       " 589: 'Bag Audio Words bin_589',\n",
       " 590: 'Bag Audio Words bin_590',\n",
       " 591: 'Bag Audio Words bin_591',\n",
       " 592: 'Bag Audio Words bin_592',\n",
       " 593: 'Bag Audio Words bin_593',\n",
       " 594: 'Bag Audio Words bin_594',\n",
       " 595: 'Bag Audio Words bin_595',\n",
       " 596: 'Bag Audio Words bin_596',\n",
       " 597: 'Bag Audio Words bin_597',\n",
       " 598: 'Bag Audio Words bin_598',\n",
       " 599: 'Bag Audio Words bin_599',\n",
       " 600: 'Bag Audio Words bin_600',\n",
       " 601: 'Bag Audio Words bin_601',\n",
       " 602: 'Bag Audio Words bin_602',\n",
       " 603: 'Bag Audio Words bin_603',\n",
       " 604: 'Bag Audio Words bin_604',\n",
       " 605: 'Bag Audio Words bin_605',\n",
       " 606: 'Bag Audio Words bin_606',\n",
       " 607: 'Bag Audio Words bin_607',\n",
       " 608: 'Bag Audio Words bin_608',\n",
       " 609: 'Bag Audio Words bin_609',\n",
       " 610: 'Bag Audio Words bin_610',\n",
       " 611: 'Bag Audio Words bin_611',\n",
       " 612: 'Bag Audio Words bin_612',\n",
       " 613: 'Bag Audio Words bin_613',\n",
       " 614: 'Bag Audio Words bin_614',\n",
       " 615: 'Bag Audio Words bin_615',\n",
       " 616: 'Bag Audio Words bin_616',\n",
       " 617: 'Bag Audio Words bin_617',\n",
       " 618: 'Bag Audio Words bin_618',\n",
       " 619: 'Bag Audio Words bin_619',\n",
       " 620: 'Bag Audio Words bin_620',\n",
       " 621: 'Bag Audio Words bin_621',\n",
       " 622: 'Bag Audio Words bin_622',\n",
       " 623: 'Bag Audio Words bin_623',\n",
       " 624: 'Bag Audio Words bin_624',\n",
       " 625: 'Bag Audio Words bin_625',\n",
       " 626: 'Bag Audio Words bin_626',\n",
       " 627: 'Bag Audio Words bin_627',\n",
       " 628: 'Bag Audio Words bin_628',\n",
       " 629: 'Bag Audio Words bin_629',\n",
       " 630: 'Bag Audio Words bin_630',\n",
       " 631: 'Bag Audio Words bin_631',\n",
       " 632: 'Bag Audio Words bin_632',\n",
       " 633: 'Bag Audio Words bin_633',\n",
       " 634: 'Bag Audio Words bin_634',\n",
       " 635: 'Bag Audio Words bin_635',\n",
       " 636: 'Bag Audio Words bin_636',\n",
       " 637: 'Bag Audio Words bin_637',\n",
       " 638: 'Bag Audio Words bin_638',\n",
       " 639: 'Bag Audio Words bin_639',\n",
       " 640: 'Bag Audio Words bin_640',\n",
       " 641: 'Bag Audio Words bin_641',\n",
       " 642: 'Bag Audio Words bin_642',\n",
       " 643: 'Bag Audio Words bin_643',\n",
       " 644: 'Bag Audio Words bin_644',\n",
       " 645: 'Bag Audio Words bin_645',\n",
       " 646: 'Bag Audio Words bin_646',\n",
       " 647: 'Bag Audio Words bin_647',\n",
       " 648: 'Bag Audio Words bin_648',\n",
       " 649: 'Bag Audio Words bin_649',\n",
       " 650: 'Bag Audio Words bin_650',\n",
       " 651: 'Bag Audio Words bin_651',\n",
       " 652: 'Bag Audio Words bin_652',\n",
       " 653: 'Bag Audio Words bin_653',\n",
       " 654: 'Bag Audio Words bin_654',\n",
       " 655: 'Bag Audio Words bin_655',\n",
       " 656: 'Bag Audio Words bin_656',\n",
       " 657: 'Bag Audio Words bin_657',\n",
       " 658: 'Bag Audio Words bin_658',\n",
       " 659: 'Bag Audio Words bin_659',\n",
       " 660: 'Bag Audio Words bin_660',\n",
       " 661: 'Bag Audio Words bin_661',\n",
       " 662: 'Bag Audio Words bin_662',\n",
       " 663: 'Bag Audio Words bin_663',\n",
       " 664: 'Bag Audio Words bin_664',\n",
       " 665: 'Bag Audio Words bin_665',\n",
       " 666: 'Bag Audio Words bin_666',\n",
       " 667: 'Bag Audio Words bin_667',\n",
       " 668: 'Bag Audio Words bin_668',\n",
       " 669: 'Bag Audio Words bin_669',\n",
       " 670: 'Bag Audio Words bin_670',\n",
       " 671: 'Bag Audio Words bin_671',\n",
       " 672: 'Bag Audio Words bin_672',\n",
       " 673: 'Bag Audio Words bin_673',\n",
       " 674: 'Bag Audio Words bin_674',\n",
       " 675: 'Bag Audio Words bin_675',\n",
       " 676: 'Bag Audio Words bin_676',\n",
       " 677: 'Bag Audio Words bin_677',\n",
       " 678: 'Bag Audio Words bin_678',\n",
       " 679: 'Bag Audio Words bin_679',\n",
       " 680: 'Bag Audio Words bin_680',\n",
       " 681: 'Bag Audio Words bin_681',\n",
       " 682: 'Bag Audio Words bin_682',\n",
       " 683: 'Bag Audio Words bin_683',\n",
       " 684: 'Bag Audio Words bin_684',\n",
       " 685: 'Bag Audio Words bin_685',\n",
       " 686: 'Bag Audio Words bin_686',\n",
       " 687: 'Bag Audio Words bin_687',\n",
       " 688: 'Bag Audio Words bin_688',\n",
       " 689: 'Bag Audio Words bin_689',\n",
       " 690: 'Bag Audio Words bin_690',\n",
       " 691: 'Bag Audio Words bin_691',\n",
       " 692: 'Bag Audio Words bin_692',\n",
       " 693: 'Bag Audio Words bin_693',\n",
       " 694: 'Bag Audio Words bin_694',\n",
       " 695: 'Bag Audio Words bin_695',\n",
       " 696: 'Bag Audio Words bin_696',\n",
       " 697: 'Bag Audio Words bin_697',\n",
       " 698: 'Bag Audio Words bin_698',\n",
       " 699: 'Bag Audio Words bin_699',\n",
       " 700: 'Bag Audio Words bin_700',\n",
       " 701: 'Bag Audio Words bin_701',\n",
       " 702: 'Bag Audio Words bin_702',\n",
       " 703: 'Bag Audio Words bin_703',\n",
       " 704: 'Bag Audio Words bin_704',\n",
       " 705: 'Bag Audio Words bin_705',\n",
       " 706: 'Bag Audio Words bin_706',\n",
       " 707: 'Bag Audio Words bin_707',\n",
       " 708: 'Bag Audio Words bin_708',\n",
       " 709: 'Bag Audio Words bin_709',\n",
       " 710: 'Bag Audio Words bin_710',\n",
       " 711: 'Bag Audio Words bin_711',\n",
       " 712: 'Bag Audio Words bin_712',\n",
       " 713: 'Bag Audio Words bin_713',\n",
       " 714: 'Bag Audio Words bin_714',\n",
       " 715: 'Bag Audio Words bin_715',\n",
       " 716: 'Bag Audio Words bin_716',\n",
       " 717: 'Bag Audio Words bin_717',\n",
       " 718: 'Bag Audio Words bin_718',\n",
       " 719: 'Bag Audio Words bin_719',\n",
       " 720: 'Bag Audio Words bin_720',\n",
       " 721: 'Bag Audio Words bin_721',\n",
       " 722: 'Bag Audio Words bin_722',\n",
       " 723: 'Bag Audio Words bin_723',\n",
       " 724: 'Bag Audio Words bin_724',\n",
       " 725: 'Bag Audio Words bin_725',\n",
       " 726: 'Bag Audio Words bin_726',\n",
       " 727: 'Bag Audio Words bin_727',\n",
       " 728: 'Bag Audio Words bin_728',\n",
       " 729: 'Bag Audio Words bin_729',\n",
       " 730: 'Bag Audio Words bin_730',\n",
       " 731: 'Bag Audio Words bin_731',\n",
       " 732: 'Bag Audio Words bin_732',\n",
       " 733: 'Bag Audio Words bin_733',\n",
       " 734: 'Bag Audio Words bin_734',\n",
       " 735: 'Bag Audio Words bin_735',\n",
       " 736: 'Bag Audio Words bin_736',\n",
       " 737: 'Bag Audio Words bin_737',\n",
       " 738: 'Bag Audio Words bin_738',\n",
       " 739: 'Bag Audio Words bin_739',\n",
       " 740: 'Bag Audio Words bin_740',\n",
       " 741: 'Bag Audio Words bin_741',\n",
       " 742: 'Bag Audio Words bin_742',\n",
       " 743: 'Bag Audio Words bin_743',\n",
       " 744: 'Bag Audio Words bin_744',\n",
       " 745: 'Bag Audio Words bin_745',\n",
       " 746: 'Bag Audio Words bin_746',\n",
       " 747: 'Bag Audio Words bin_747',\n",
       " 748: 'Bag Audio Words bin_748',\n",
       " 749: 'Bag Audio Words bin_749',\n",
       " 750: 'Bag Audio Words bin_750',\n",
       " 751: 'Bag Audio Words bin_751',\n",
       " 752: 'Bag Audio Words bin_752',\n",
       " 753: 'Bag Audio Words bin_753',\n",
       " 754: 'Bag Audio Words bin_754',\n",
       " 755: 'Bag Audio Words bin_755',\n",
       " 756: 'Bag Audio Words bin_756',\n",
       " 757: 'Bag Audio Words bin_757',\n",
       " 758: 'Bag Audio Words bin_758',\n",
       " 759: 'Bag Audio Words bin_759',\n",
       " 760: 'Bag Audio Words bin_760',\n",
       " 761: 'Bag Audio Words bin_761',\n",
       " 762: 'Bag Audio Words bin_762',\n",
       " 763: 'Bag Audio Words bin_763',\n",
       " 764: 'Bag Audio Words bin_764',\n",
       " 765: 'Bag Audio Words bin_765',\n",
       " 766: 'Bag Audio Words bin_766',\n",
       " 767: 'Bag Audio Words bin_767',\n",
       " 768: 'Bag Audio Words bin_768',\n",
       " 769: 'Bag Audio Words bin_769',\n",
       " 770: 'Bag Audio Words bin_770',\n",
       " 771: 'Bag Audio Words bin_771',\n",
       " 772: 'Bag Audio Words bin_772',\n",
       " 773: 'Bag Audio Words bin_773',\n",
       " 774: 'Bag Audio Words bin_774',\n",
       " 775: 'Bag Audio Words bin_775',\n",
       " 776: 'Bag Audio Words bin_776',\n",
       " 777: 'Bag Audio Words bin_777',\n",
       " 778: 'Bag Audio Words bin_778',\n",
       " 779: 'Bag Audio Words bin_779',\n",
       " 780: 'Bag Audio Words bin_780',\n",
       " 781: 'Bag Audio Words bin_781',\n",
       " 782: 'Bag Audio Words bin_782',\n",
       " 783: 'Bag Audio Words bin_783',\n",
       " 784: 'Bag Audio Words bin_784',\n",
       " 785: 'Bag Audio Words bin_785',\n",
       " 786: 'Bag Audio Words bin_786',\n",
       " 787: 'Bag Audio Words bin_787',\n",
       " 788: 'Bag Audio Words bin_788',\n",
       " 789: 'Bag Audio Words bin_789',\n",
       " 790: 'Bag Audio Words bin_790',\n",
       " 791: 'Bag Audio Words bin_791',\n",
       " 792: 'Bag Audio Words bin_792',\n",
       " 793: 'Bag Audio Words bin_793',\n",
       " 794: 'Bag Audio Words bin_794',\n",
       " 795: 'Bag Audio Words bin_795',\n",
       " 796: 'Bag Audio Words bin_796',\n",
       " 797: 'Bag Audio Words bin_797',\n",
       " 798: 'Bag Audio Words bin_798',\n",
       " 799: 'Bag Audio Words bin_799',\n",
       " 800: 'Bag Audio Words bin_800',\n",
       " 801: 'Bag Audio Words bin_801',\n",
       " 802: 'Bag Audio Words bin_802',\n",
       " 803: 'Bag Audio Words bin_803',\n",
       " 804: 'Bag Audio Words bin_804',\n",
       " 805: 'Bag Audio Words bin_805',\n",
       " 806: 'Bag Audio Words bin_806',\n",
       " 807: 'Bag Audio Words bin_807',\n",
       " 808: 'Bag Audio Words bin_808',\n",
       " 809: 'Bag Audio Words bin_809',\n",
       " 810: 'Bag Audio Words bin_810',\n",
       " 811: 'Bag Audio Words bin_811',\n",
       " 812: 'Bag Audio Words bin_812',\n",
       " 813: 'Bag Audio Words bin_813',\n",
       " 814: 'Bag Audio Words bin_814',\n",
       " 815: 'Bag Audio Words bin_815',\n",
       " 816: 'Bag Audio Words bin_816',\n",
       " 817: 'Bag Audio Words bin_817',\n",
       " 818: 'Bag Audio Words bin_818',\n",
       " 819: 'Bag Audio Words bin_819',\n",
       " 820: 'Bag Audio Words bin_820',\n",
       " 821: 'Bag Audio Words bin_821',\n",
       " 822: 'Bag Audio Words bin_822',\n",
       " 823: 'Bag Audio Words bin_823',\n",
       " 824: 'Bag Audio Words bin_824',\n",
       " 825: 'Bag Audio Words bin_825',\n",
       " 826: 'Bag Audio Words bin_826',\n",
       " 827: 'Bag Audio Words bin_827',\n",
       " 828: 'Bag Audio Words bin_828',\n",
       " 829: 'Bag Audio Words bin_829',\n",
       " 830: 'Bag Audio Words bin_830',\n",
       " 831: 'Bag Audio Words bin_831',\n",
       " 832: 'Bag Audio Words bin_832',\n",
       " 833: 'Bag Audio Words bin_833',\n",
       " 834: 'Bag Audio Words bin_834',\n",
       " 835: 'Bag Audio Words bin_835',\n",
       " 836: 'Bag Audio Words bin_836',\n",
       " 837: 'Bag Audio Words bin_837',\n",
       " 838: 'Bag Audio Words bin_838',\n",
       " 839: 'Bag Audio Words bin_839',\n",
       " 840: 'Bag Audio Words bin_840',\n",
       " 841: 'Bag Audio Words bin_841',\n",
       " 842: 'Bag Audio Words bin_842',\n",
       " 843: 'Bag Audio Words bin_843',\n",
       " 844: 'Bag Audio Words bin_844',\n",
       " 845: 'Bag Audio Words bin_845',\n",
       " 846: 'Bag Audio Words bin_846',\n",
       " 847: 'Bag Audio Words bin_847',\n",
       " 848: 'Bag Audio Words bin_848',\n",
       " 849: 'Bag Audio Words bin_849',\n",
       " 850: 'Bag Audio Words bin_850',\n",
       " 851: 'Bag Audio Words bin_851',\n",
       " 852: 'Bag Audio Words bin_852',\n",
       " 853: 'Bag Audio Words bin_853',\n",
       " 854: 'Bag Audio Words bin_854',\n",
       " 855: 'Bag Audio Words bin_855',\n",
       " 856: 'Bag Audio Words bin_856',\n",
       " 857: 'Bag Audio Words bin_857',\n",
       " 858: 'Bag Audio Words bin_858',\n",
       " 859: 'Bag Audio Words bin_859',\n",
       " 860: 'Bag Audio Words bin_860',\n",
       " 861: 'Bag Audio Words bin_861',\n",
       " 862: 'Bag Audio Words bin_862',\n",
       " 863: 'Bag Audio Words bin_863',\n",
       " 864: 'Bag Audio Words bin_864',\n",
       " 865: 'Bag Audio Words bin_865',\n",
       " 866: 'Bag Audio Words bin_866',\n",
       " 867: 'Bag Audio Words bin_867',\n",
       " 868: 'Bag Audio Words bin_868',\n",
       " 869: 'Bag Audio Words bin_869',\n",
       " 870: 'Bag Audio Words bin_870',\n",
       " 871: 'Bag Audio Words bin_871',\n",
       " 872: 'Bag Audio Words bin_872',\n",
       " 873: 'Bag Audio Words bin_873',\n",
       " 874: 'Bag Audio Words bin_874',\n",
       " 875: 'Bag Audio Words bin_875',\n",
       " 876: 'Bag Audio Words bin_876',\n",
       " 877: 'Bag Audio Words bin_877',\n",
       " 878: 'Bag Audio Words bin_878',\n",
       " 879: 'Bag Audio Words bin_879',\n",
       " 880: 'Bag Audio Words bin_880',\n",
       " 881: 'Bag Audio Words bin_881',\n",
       " 882: 'Bag Audio Words bin_882',\n",
       " 883: 'Bag Audio Words bin_883',\n",
       " 884: 'Bag Audio Words bin_884',\n",
       " 885: 'Bag Audio Words bin_885',\n",
       " 886: 'Bag Audio Words bin_886',\n",
       " 887: 'Bag Audio Words bin_887',\n",
       " 888: 'Bag Audio Words bin_888',\n",
       " 889: 'Bag Audio Words bin_889',\n",
       " 890: 'Bag Audio Words bin_890',\n",
       " 891: 'Bag Audio Words bin_891',\n",
       " 892: 'Bag Audio Words bin_892',\n",
       " 893: 'Bag Audio Words bin_893',\n",
       " 894: 'Bag Audio Words bin_894',\n",
       " 895: 'Bag Audio Words bin_895',\n",
       " 896: 'Bag Audio Words bin_896',\n",
       " 897: 'Bag Audio Words bin_897',\n",
       " 898: 'Bag Audio Words bin_898',\n",
       " 899: 'Bag Audio Words bin_899',\n",
       " 900: 'Bag Audio Words bin_900',\n",
       " 901: 'Bag Audio Words bin_901',\n",
       " 902: 'Bag Audio Words bin_902',\n",
       " 903: 'Bag Audio Words bin_903',\n",
       " 904: 'Bag Audio Words bin_904',\n",
       " 905: 'Bag Audio Words bin_905',\n",
       " 906: 'Bag Audio Words bin_906',\n",
       " 907: 'Bag Audio Words bin_907',\n",
       " 908: 'Bag Audio Words bin_908',\n",
       " 909: 'Bag Audio Words bin_909',\n",
       " 910: 'Bag Audio Words bin_910',\n",
       " 911: 'Bag Audio Words bin_911',\n",
       " 912: 'Bag Audio Words bin_912',\n",
       " 913: 'Bag Audio Words bin_913',\n",
       " 914: 'Bag Audio Words bin_914',\n",
       " 915: 'Bag Audio Words bin_915',\n",
       " 916: 'Bag Audio Words bin_916',\n",
       " 917: 'Bag Audio Words bin_917',\n",
       " 918: 'Bag Audio Words bin_918',\n",
       " 919: 'Bag Audio Words bin_919',\n",
       " 920: 'Bag Audio Words bin_920',\n",
       " 921: 'Bag Audio Words bin_921',\n",
       " 922: 'Bag Audio Words bin_922',\n",
       " 923: 'Bag Audio Words bin_923',\n",
       " 924: 'Bag Audio Words bin_924',\n",
       " 925: 'Bag Audio Words bin_925',\n",
       " 926: 'Bag Audio Words bin_926',\n",
       " 927: 'Bag Audio Words bin_927',\n",
       " 928: 'Bag Audio Words bin_928',\n",
       " 929: 'Bag Audio Words bin_929',\n",
       " 930: 'Bag Audio Words bin_930',\n",
       " 931: 'Bag Audio Words bin_931',\n",
       " 932: 'Bag Audio Words bin_932',\n",
       " 933: 'Bag Audio Words bin_933',\n",
       " 934: 'Bag Audio Words bin_934',\n",
       " 935: 'Bag Audio Words bin_935',\n",
       " 936: 'Bag Audio Words bin_936',\n",
       " 937: 'Bag Audio Words bin_937',\n",
       " 938: 'Bag Audio Words bin_938',\n",
       " 939: 'Bag Audio Words bin_939',\n",
       " 940: 'Bag Audio Words bin_940',\n",
       " 941: 'Bag Audio Words bin_941',\n",
       " 942: 'Bag Audio Words bin_942',\n",
       " 943: 'Bag Audio Words bin_943',\n",
       " 944: 'Bag Audio Words bin_944',\n",
       " 945: 'Bag Audio Words bin_945',\n",
       " 946: 'Bag Audio Words bin_946',\n",
       " 947: 'Bag Audio Words bin_947',\n",
       " 948: 'Bag Audio Words bin_948',\n",
       " 949: 'Bag Audio Words bin_949',\n",
       " 950: 'Bag Audio Words bin_950',\n",
       " 951: 'Bag Audio Words bin_951',\n",
       " 952: 'Bag Audio Words bin_952',\n",
       " 953: 'Bag Audio Words bin_953',\n",
       " 954: 'Bag Audio Words bin_954',\n",
       " 955: 'Bag Audio Words bin_955',\n",
       " 956: 'Bag Audio Words bin_956',\n",
       " 957: 'Bag Audio Words bin_957',\n",
       " 958: 'Bag Audio Words bin_958',\n",
       " 959: 'Bag Audio Words bin_959',\n",
       " 960: 'Bag Audio Words bin_960',\n",
       " 961: 'Bag Audio Words bin_961',\n",
       " 962: 'Bag Audio Words bin_962',\n",
       " 963: 'Bag Audio Words bin_963',\n",
       " 964: 'Bag Audio Words bin_964',\n",
       " 965: 'Bag Audio Words bin_965',\n",
       " 966: 'Bag Audio Words bin_966',\n",
       " 967: 'Bag Audio Words bin_967',\n",
       " 968: 'Bag Audio Words bin_968',\n",
       " 969: 'Bag Audio Words bin_969',\n",
       " 970: 'Bag Audio Words bin_970',\n",
       " 971: 'Bag Audio Words bin_971',\n",
       " 972: 'Bag Audio Words bin_972',\n",
       " 973: 'Bag Audio Words bin_973',\n",
       " 974: 'Bag Audio Words bin_974',\n",
       " 975: 'Bag Audio Words bin_975',\n",
       " 976: 'Bag Audio Words bin_976',\n",
       " 977: 'Bag Audio Words bin_977',\n",
       " 978: 'Bag Audio Words bin_978',\n",
       " 979: 'Bag Audio Words bin_979',\n",
       " 980: 'Bag Audio Words bin_980',\n",
       " 981: 'Bag Audio Words bin_981',\n",
       " 982: 'Bag Audio Words bin_982',\n",
       " 983: 'Bag Audio Words bin_983',\n",
       " 984: 'Bag Audio Words bin_984',\n",
       " 985: 'Bag Audio Words bin_985',\n",
       " 986: 'Bag Audio Words bin_986',\n",
       " 987: 'Bag Audio Words bin_987',\n",
       " 988: 'Bag Audio Words bin_988',\n",
       " 989: 'Bag Audio Words bin_989',\n",
       " 990: 'Bag Audio Words bin_990',\n",
       " 991: 'Bag Audio Words bin_991',\n",
       " 992: 'Bag Audio Words bin_992',\n",
       " 993: 'Bag Audio Words bin_993',\n",
       " 994: 'Bag Audio Words bin_994',\n",
       " 995: 'Bag Audio Words bin_995',\n",
       " 996: 'Bag Audio Words bin_996',\n",
       " 997: 'Bag Audio Words bin_997',\n",
       " 998: 'Bag Audio Words bin_998',\n",
       " ...}"
      ]
     },
     "execution_count": 16,
     "metadata": {},
     "output_type": "execute_result"
    }
   ],
   "source": [
    "namedict"
   ]
  },
  {
   "cell_type": "code",
   "execution_count": 17,
   "metadata": {},
   "outputs": [],
   "source": [
    "cols=imputed_tv.columns\n",
    "cols=[int(i) for i in cols[:-1]]\n",
    "colnames=[namedict[i] for i in cols]\n",
    "colnames.append('Label')"
   ]
  },
  {
   "cell_type": "code",
   "execution_count": 19,
   "metadata": {},
   "outputs": [],
   "source": [
    "imputed_tv.columns=colnames"
   ]
  },
  {
   "cell_type": "code",
   "execution_count": 20,
   "metadata": {},
   "outputs": [
    {
     "data": {
      "text/html": [
       "<div>\n",
       "<style scoped>\n",
       "    .dataframe tbody tr th:only-of-type {\n",
       "        vertical-align: middle;\n",
       "    }\n",
       "\n",
       "    .dataframe tbody tr th {\n",
       "        vertical-align: top;\n",
       "    }\n",
       "\n",
       "    .dataframe thead th {\n",
       "        text-align: right;\n",
       "    }\n",
       "</style>\n",
       "<table border=\"1\" class=\"dataframe\">\n",
       "  <thead>\n",
       "    <tr style=\"text-align: right;\">\n",
       "      <th></th>\n",
       "      <th>Shot Length</th>\n",
       "      <th>Motion Distribution Mean</th>\n",
       "      <th>Motion Distribution Variance</th>\n",
       "      <th>Frame Difference Distribution Mean</th>\n",
       "      <th>Frame Difference Distribution Variance</th>\n",
       "      <th>Short time energy Mean</th>\n",
       "      <th>Short time energy Variance</th>\n",
       "      <th>ZCR Mean</th>\n",
       "      <th>ZCR Variance</th>\n",
       "      <th>SpectralCentroid Mean</th>\n",
       "      <th>...</th>\n",
       "      <th>Text Area Distribution bin_118</th>\n",
       "      <th>Text Area Distribution bin_119</th>\n",
       "      <th>Bag Audio Words bin_491</th>\n",
       "      <th>Bag Audio Words bin_572</th>\n",
       "      <th>Bag Audio Words bin_573</th>\n",
       "      <th>Bag Audio Words bin_623</th>\n",
       "      <th>Bag Audio Words bin_816</th>\n",
       "      <th>Edge Change Ratio Mean</th>\n",
       "      <th>Edge Change Ratio Variance</th>\n",
       "      <th>Label</th>\n",
       "    </tr>\n",
       "  </thead>\n",
       "  <tbody>\n",
       "    <tr>\n",
       "      <th>0</th>\n",
       "      <td>123</td>\n",
       "      <td>1.316440</td>\n",
       "      <td>1.516003</td>\n",
       "      <td>5.605905</td>\n",
       "      <td>5.346760</td>\n",
       "      <td>0.013233</td>\n",
       "      <td>0.010729</td>\n",
       "      <td>0.091743</td>\n",
       "      <td>0.050768</td>\n",
       "      <td>3808.067871</td>\n",
       "      <td>...</td>\n",
       "      <td>0.251688</td>\n",
       "      <td>0.176144</td>\n",
       "      <td>0.069915</td>\n",
       "      <td>0.141949</td>\n",
       "      <td>0.103814</td>\n",
       "      <td>0.050847</td>\n",
       "      <td>0.036017</td>\n",
       "      <td>0.422334</td>\n",
       "      <td>0.663918</td>\n",
       "      <td>1</td>\n",
       "    </tr>\n",
       "    <tr>\n",
       "      <th>1</th>\n",
       "      <td>124</td>\n",
       "      <td>0.966079</td>\n",
       "      <td>0.546420</td>\n",
       "      <td>4.046537</td>\n",
       "      <td>3.190973</td>\n",
       "      <td>0.008338</td>\n",
       "      <td>0.011490</td>\n",
       "      <td>0.075504</td>\n",
       "      <td>0.065841</td>\n",
       "      <td>3466.266113</td>\n",
       "      <td>...</td>\n",
       "      <td>0.206926</td>\n",
       "      <td>0.051774</td>\n",
       "      <td>0.075630</td>\n",
       "      <td>0.012605</td>\n",
       "      <td>0.037815</td>\n",
       "      <td>0.086134</td>\n",
       "      <td>0.023109</td>\n",
       "      <td>0.332664</td>\n",
       "      <td>0.766184</td>\n",
       "      <td>1</td>\n",
       "    </tr>\n",
       "    <tr>\n",
       "      <th>2</th>\n",
       "      <td>109</td>\n",
       "      <td>2.035407</td>\n",
       "      <td>0.571643</td>\n",
       "      <td>9.551406</td>\n",
       "      <td>5.803685</td>\n",
       "      <td>0.015189</td>\n",
       "      <td>0.014294</td>\n",
       "      <td>0.094209</td>\n",
       "      <td>0.044991</td>\n",
       "      <td>3798.196533</td>\n",
       "      <td>...</td>\n",
       "      <td>0.185767</td>\n",
       "      <td>0.038852</td>\n",
       "      <td>0.069712</td>\n",
       "      <td>0.038462</td>\n",
       "      <td>0.088942</td>\n",
       "      <td>0.139423</td>\n",
       "      <td>0.052885</td>\n",
       "      <td>0.346674</td>\n",
       "      <td>0.225022</td>\n",
       "      <td>1</td>\n",
       "    </tr>\n",
       "    <tr>\n",
       "      <th>3</th>\n",
       "      <td>86</td>\n",
       "      <td>3.206008</td>\n",
       "      <td>0.786326</td>\n",
       "      <td>10.092709</td>\n",
       "      <td>2.693058</td>\n",
       "      <td>0.013962</td>\n",
       "      <td>0.011039</td>\n",
       "      <td>0.092042</td>\n",
       "      <td>0.043756</td>\n",
       "      <td>3761.712402</td>\n",
       "      <td>...</td>\n",
       "      <td>0.165600</td>\n",
       "      <td>0.003983</td>\n",
       "      <td>0.135802</td>\n",
       "      <td>0.012346</td>\n",
       "      <td>0.086420</td>\n",
       "      <td>0.212963</td>\n",
       "      <td>0.077160</td>\n",
       "      <td>0.993323</td>\n",
       "      <td>0.840083</td>\n",
       "      <td>1</td>\n",
       "    </tr>\n",
       "    <tr>\n",
       "      <th>4</th>\n",
       "      <td>76</td>\n",
       "      <td>3.135861</td>\n",
       "      <td>0.896346</td>\n",
       "      <td>10.348035</td>\n",
       "      <td>2.651010</td>\n",
       "      <td>0.020914</td>\n",
       "      <td>0.012061</td>\n",
       "      <td>0.108018</td>\n",
       "      <td>0.052617</td>\n",
       "      <td>3784.488037</td>\n",
       "      <td>...</td>\n",
       "      <td>0.159495</td>\n",
       "      <td>0.000066</td>\n",
       "      <td>0.021127</td>\n",
       "      <td>0.007042</td>\n",
       "      <td>0.154930</td>\n",
       "      <td>0.151408</td>\n",
       "      <td>0.017606</td>\n",
       "      <td>0.341520</td>\n",
       "      <td>0.710470</td>\n",
       "      <td>1</td>\n",
       "    </tr>\n",
       "  </tbody>\n",
       "</table>\n",
       "<p>5 rows × 100 columns</p>\n",
       "</div>"
      ],
      "text/plain": [
       "   Shot Length  Motion Distribution Mean  Motion Distribution Variance  \\\n",
       "0          123                  1.316440                      1.516003   \n",
       "1          124                  0.966079                      0.546420   \n",
       "2          109                  2.035407                      0.571643   \n",
       "3           86                  3.206008                      0.786326   \n",
       "4           76                  3.135861                      0.896346   \n",
       "\n",
       "   Frame Difference Distribution Mean  Frame Difference Distribution Variance  \\\n",
       "0                            5.605905                                5.346760   \n",
       "1                            4.046537                                3.190973   \n",
       "2                            9.551406                                5.803685   \n",
       "3                           10.092709                                2.693058   \n",
       "4                           10.348035                                2.651010   \n",
       "\n",
       "   Short time energy Mean  Short time energy Variance  ZCR Mean  ZCR Variance  \\\n",
       "0                0.013233                    0.010729  0.091743      0.050768   \n",
       "1                0.008338                    0.011490  0.075504      0.065841   \n",
       "2                0.015189                    0.014294  0.094209      0.044991   \n",
       "3                0.013962                    0.011039  0.092042      0.043756   \n",
       "4                0.020914                    0.012061  0.108018      0.052617   \n",
       "\n",
       "   SpectralCentroid Mean  ...  Text Area Distribution bin_118  \\\n",
       "0            3808.067871  ...                        0.251688   \n",
       "1            3466.266113  ...                        0.206926   \n",
       "2            3798.196533  ...                        0.185767   \n",
       "3            3761.712402  ...                        0.165600   \n",
       "4            3784.488037  ...                        0.159495   \n",
       "\n",
       "   Text Area Distribution bin_119  Bag Audio Words bin_491  \\\n",
       "0                        0.176144                 0.069915   \n",
       "1                        0.051774                 0.075630   \n",
       "2                        0.038852                 0.069712   \n",
       "3                        0.003983                 0.135802   \n",
       "4                        0.000066                 0.021127   \n",
       "\n",
       "   Bag Audio Words bin_572  Bag Audio Words bin_573  Bag Audio Words bin_623  \\\n",
       "0                 0.141949                 0.103814                 0.050847   \n",
       "1                 0.012605                 0.037815                 0.086134   \n",
       "2                 0.038462                 0.088942                 0.139423   \n",
       "3                 0.012346                 0.086420                 0.212963   \n",
       "4                 0.007042                 0.154930                 0.151408   \n",
       "\n",
       "   Bag Audio Words bin_816  Edge Change Ratio Mean  \\\n",
       "0                 0.036017                0.422334   \n",
       "1                 0.023109                0.332664   \n",
       "2                 0.052885                0.346674   \n",
       "3                 0.077160                0.993323   \n",
       "4                 0.017606                0.341520   \n",
       "\n",
       "   Edge Change Ratio Variance  Label  \n",
       "0                    0.663918      1  \n",
       "1                    0.766184      1  \n",
       "2                    0.225022      1  \n",
       "3                    0.840083      1  \n",
       "4                    0.710470      1  \n",
       "\n",
       "[5 rows x 100 columns]"
      ]
     },
     "execution_count": 20,
     "metadata": {},
     "output_type": "execute_result"
    }
   ],
   "source": [
    "imputed_tv.head()"
   ]
  },
  {
   "cell_type": "code",
   "execution_count": 21,
   "metadata": {},
   "outputs": [],
   "source": [
    "cor = imputed_tv.corr()"
   ]
  },
  {
   "cell_type": "code",
   "execution_count": 22,
   "metadata": {},
   "outputs": [],
   "source": [
    "import numpy as np"
   ]
  },
  {
   "cell_type": "markdown",
   "metadata": {},
   "source": [
    "### Removed columns with 95 % correlation"
   ]
  },
  {
   "cell_type": "code",
   "execution_count": 23,
   "metadata": {},
   "outputs": [],
   "source": [
    "# Create correlation matrix\n",
    "corr_matrix = imputed_tv.corr().abs()\n",
    "\n",
    "# # Select upper triangle of correlation matrix\n",
    "upper = corr_matrix.where(np.triu(np.ones(corr_matrix.shape), k=1).astype(np.bool))\n",
    "\n",
    "# # Find index of feature columns with correlation greater than 0.95\n",
    "to_drop = [column for column in upper.columns if any(upper[column] > 0.95)]\n",
    "imputed_tv_reduced=imputed_tv.drop(imputed_tv[to_drop], axis=1)"
   ]
  },
  {
   "cell_type": "markdown",
   "metadata": {},
   "source": [
    "### Mean Imputation"
   ]
  },
  {
   "cell_type": "code",
   "execution_count": 24,
   "metadata": {},
   "outputs": [],
   "source": [
    "imputed_tv_reduced=imputed_tv_reduced.fillna(-9999)"
   ]
  },
  {
   "cell_type": "code",
   "execution_count": 30,
   "metadata": {},
   "outputs": [],
   "source": [
    "tv_spark_df = sqlContext.createDataFrame(imputed_tv_reduced)"
   ]
  },
  {
   "cell_type": "code",
   "execution_count": 31,
   "metadata": {},
   "outputs": [],
   "source": [
    "#Label:0 for non-commercials,1 for commercials \n",
    "tv_spark_df=tv_spark_df.withColumn('Label',fn.when(fn.col('Label')==-1,0.).otherwise(1))"
   ]
  },
  {
   "cell_type": "code",
   "execution_count": 32,
   "metadata": {},
   "outputs": [],
   "source": [
    "#as float\n",
    "from pyspark.sql.functions import col\n",
    "tv_spark_df=tv_spark_df.select(*(col(c).cast(\"float\").alias(c) for c in tv_spark_df.columns))"
   ]
  },
  {
   "cell_type": "code",
   "execution_count": 35,
   "metadata": {},
   "outputs": [],
   "source": [
    "mean_imp=Imputer(strategy='mean',inputCols=tv_spark_df.columns,outputCols=tv_spark_df.columns,missingValue=-9999)"
   ]
  },
  {
   "cell_type": "code",
   "execution_count": 36,
   "metadata": {},
   "outputs": [],
   "source": [
    "imp_trans=mean_imp.fit(tv_spark_df)"
   ]
  },
  {
   "cell_type": "code",
   "execution_count": 37,
   "metadata": {},
   "outputs": [],
   "source": [
    "tv_spark_df=imp_trans.transform(tv_spark_df)"
   ]
  },
  {
   "cell_type": "markdown",
   "metadata": {},
   "source": [
    "### Exploratory Data Analysis"
   ]
  },
  {
   "cell_type": "code",
   "execution_count": 5,
   "metadata": {},
   "outputs": [
    {
     "ename": "NameError",
     "evalue": "name 'imputed_tv' is not defined",
     "output_type": "error",
     "traceback": [
      "\u001b[1;31m---------------------------------------------------------------------------\u001b[0m",
      "\u001b[1;31mNameError\u001b[0m                                 Traceback (most recent call last)",
      "\u001b[1;32m<ipython-input-5-606839913ffa>\u001b[0m in \u001b[0;36m<module>\u001b[1;34m\u001b[0m\n\u001b[1;32m----> 1\u001b[1;33m \u001b[0mimputed_tv\u001b[0m\u001b[1;33m.\u001b[0m\u001b[0mboxplot\u001b[0m\u001b[1;33m(\u001b[0m\u001b[0mcolumn\u001b[0m\u001b[1;33m=\u001b[0m\u001b[1;33m[\u001b[0m\u001b[1;34m'Motion Distribution Mean'\u001b[0m\u001b[1;33m]\u001b[0m\u001b[1;33m,\u001b[0m\u001b[0mshowfliers\u001b[0m\u001b[1;33m=\u001b[0m\u001b[1;32mFalse\u001b[0m\u001b[1;33m)\u001b[0m\u001b[1;33m\u001b[0m\u001b[1;33m\u001b[0m\u001b[0m\n\u001b[0m",
      "\u001b[1;31mNameError\u001b[0m: name 'imputed_tv' is not defined"
     ]
    }
   ],
   "source": [
    "imputed_tv.boxplot(column=['Motion Distribution Mean'],showfliers=False)"
   ]
  },
  {
   "cell_type": "code",
   "execution_count": null,
   "metadata": {},
   "outputs": [],
   "source": [
    "ax = sns.boxplot(x=\"Label\", y=\"Fundamental Frequecy Mean\", data=imputed_tv,showfliers=False)"
   ]
  },
  {
   "cell_type": "code",
   "execution_count": null,
   "metadata": {},
   "outputs": [],
   "source": [
    "imputed_tv[imputed_tv['Shot Length'] < 500].hist(column='Shot Length',bins =20)"
   ]
  },
  {
   "cell_type": "code",
   "execution_count": 39,
   "metadata": {},
   "outputs": [
    {
     "data": {
      "text/plain": [
       "<matplotlib.axes._subplots.AxesSubplot at 0x24f15d439e8>"
      ]
     },
     "execution_count": 39,
     "metadata": {},
     "output_type": "execute_result"
    }
   ],
   "source": [
    "tv_spark_df.groupBy('Label').agg(fn.count('Label')).toPandas().plot.bar(x='Label', y='count(Label)')"
   ]
  },
  {
   "cell_type": "code",
   "execution_count": 40,
   "metadata": {},
   "outputs": [
    {
     "name": "stdout",
     "output_type": "stream",
     "text": [
      "+-----+-----------------+------------------------+\n",
      "|Label| avg(Shot Length)|stddev_samp(Shot Length)|\n",
      "+-----+-----------------+------------------------+\n",
      "|  1.0|63.58907224769248|      155.22723397282064|\n",
      "|  0.0|180.5852193703376|      375.78641195459545|\n",
      "+-----+-----------------+------------------------+\n",
      "\n"
     ]
    }
   ],
   "source": [
    "#Descriptive \n",
    "tv_spark_df.select('Shot Length','Label').groupBy('Label').agg(fn.mean(fn.col('Shot Length')),fn.stddev(fn.col('Shot Length'))).show()"
   ]
  },
  {
   "cell_type": "code",
   "execution_count": 41,
   "metadata": {},
   "outputs": [],
   "source": [
    "%matplotlib inline"
   ]
  },
  {
   "cell_type": "markdown",
   "metadata": {},
   "source": [
    "Saving final data frame for future use "
   ]
  },
  {
   "cell_type": "code",
   "execution_count": 44,
   "metadata": {},
   "outputs": [],
   "source": [
    "#predictor feature list \n",
    "feat_list=tv_spark_df.columns[:-1]"
   ]
  },
  {
   "cell_type": "markdown",
   "metadata": {},
   "source": [
    "## Stratified split"
   ]
  },
  {
   "cell_type": "code",
   "execution_count": 45,
   "metadata": {},
   "outputs": [],
   "source": [
    "#Stratified Sampling \n",
    "training_df = tv_spark_df.sampleBy(\"label\", fractions={0: 0.6, 1: 0.6}, seed=10)\n",
    "valid_test_df = tv_spark_df.subtract(training_df)\n",
    "validation_df = valid_test_df.sampleBy(\"label\", fractions={0: 0.75, 1: 0.75}, seed=10)\n",
    "testing_df_gen = valid_test_df.subtract(validation_df)\n",
    "testing_df=testing_df_gen.sampleBy(\"label\",fractions={0:0.99,1:0.99}, seed=10)\n",
    "testing_df_unseen=testing_df_gen.subtract(testing_df)"
   ]
  },
  {
   "cell_type": "markdown",
   "metadata": {},
   "source": [
    "### For the demo, saved models can be used to save time. Please find the saved models in the attachments and save them in the same directory. Run the below cell to load all the saved models.\n"
   ]
  },
  {
   "cell_type": "code",
   "execution_count": null,
   "metadata": {},
   "outputs": [],
   "source": [
    "best_model=PipelineModel.load('bestmodel')\n",
    "rf_best=PipelineModel.load('best_model_rf')\n",
    "best_model_gbt=PipelineModel.load('best_model_gbt')"
   ]
  },
  {
   "cell_type": "markdown",
   "metadata": {},
   "source": [
    "# Logistic Regression"
   ]
  },
  {
   "cell_type": "markdown",
   "metadata": {},
   "source": [
    "- [Index](#Index)"
   ]
  },
  {
   "cell_type": "markdown",
   "metadata": {},
   "source": [
    "Feature Engineering Steps "
   ]
  },
  {
   "cell_type": "code",
   "execution_count": 24,
   "metadata": {},
   "outputs": [],
   "source": [
    "#feature assembler and scaling pipeline \n",
    "pipe1tv=Pipeline(stages=[feature.VectorAssembler(inputCols=feat_list,outputCol='features'),feature.StandardScaler(inputCol='features',outputCol='scaled',withMean=True)])"
   ]
  },
  {
   "cell_type": "code",
   "execution_count": 25,
   "metadata": {},
   "outputs": [],
   "source": [
    "#Logistic Regression Pipeline with Elastic net Regularization\n",
    "lr = LogisticRegression(regParam=0.1, elasticNetParam=0.1,featuresCol='scaled',labelCol='Label')\n",
    "lr_pipe=Pipeline(stages=[pipe1tv,lr]).fit(training_df)\n",
    "lr_est=Pipeline(stages=[pipe1tv,lr])"
   ]
  },
  {
   "cell_type": "code",
   "execution_count": 26,
   "metadata": {},
   "outputs": [],
   "source": [
    "valid_df=lr_pipe.transform(validation_df)"
   ]
  },
  {
   "cell_type": "code",
   "execution_count": 27,
   "metadata": {},
   "outputs": [],
   "source": [
    "#Defining the evaluator\n",
    "evaluator = evaluation.BinaryClassificationEvaluator(labelCol='Label')"
   ]
  },
  {
   "cell_type": "code",
   "execution_count": 83,
   "metadata": {},
   "outputs": [],
   "source": [
    "non_zerobool=[i!=0 for i in lr_pipe.stages[-1].coefficients.toArray().tolist()]"
   ]
  },
  {
   "cell_type": "code",
   "execution_count": 84,
   "metadata": {},
   "outputs": [
    {
     "data": {
      "text/plain": [
       "['Shot Length',\n",
       " 'Motion Distribution Variance',\n",
       " 'Frame Difference Distribution Mean',\n",
       " 'Frame Difference Distribution Variance',\n",
       " 'Short time energy Mean',\n",
       " 'Short time energy Variance',\n",
       " 'ZCR Mean',\n",
       " 'SpectralCentroid Mean',\n",
       " 'SpectralCentroid Variance',\n",
       " 'Spectral Flux Variance',\n",
       " 'Fundamental Frequecy Mean',\n",
       " 'Fundamental Frequecy Variance',\n",
       " 'Motion Distribution bin_19',\n",
       " 'Motion Distribution bin_29',\n",
       " 'Motion Distribution bin_58',\n",
       " 'Frame Difference bin_59',\n",
       " 'Frame Difference bin_62',\n",
       " 'Frame Difference bin_63',\n",
       " 'Frame Difference bin_70',\n",
       " 'Frame Difference bin_71',\n",
       " 'Frame Difference bin_75',\n",
       " 'Frame Difference bin_76',\n",
       " 'Frame Difference bin_77',\n",
       " 'Frame Difference bin_79',\n",
       " 'Frame Difference bin_80',\n",
       " 'Text Area Distribution bin_92',\n",
       " 'Text Area Distribution bin_103',\n",
       " 'Text Area Distribution bin_104',\n",
       " 'Text Area Distribution bin_117',\n",
       " 'Text Area Distribution bin_119',\n",
       " 'Bag Audio Words bin_572',\n",
       " 'Bag Audio Words bin_573',\n",
       " 'Bag Audio Words bin_623',\n",
       " 'Bag Audio Words bin_816']"
      ]
     },
     "execution_count": 84,
     "metadata": {},
     "output_type": "execute_result"
    }
   ],
   "source": [
    "from itertools import compress\n",
    "list(compress(feat_list,non_zerobool))"
   ]
  },
  {
   "cell_type": "markdown",
   "metadata": {},
   "source": [
    "Features:['Shot Length',\n",
    " 'Short time energy Mean',\n",
    " 'Short time energy Variance',\n",
    " 'SpectralCentroid Variance',\n",
    " 'Spectral Flux Variance',\n",
    " 'Motion Distribution bin_58',\n",
    " 'Frame Difference bin_59',\n",
    " 'Text Area Distribution bin_104',\n",
    " 'Text Area Distribution bin_119',\n",
    " 'Bag Audio Words bin_572',\n",
    " 'Bag Audio Words bin_573',\n",
    " 'Bag Audio Words bin_816']"
   ]
  },
  {
   "cell_type": "code",
   "execution_count": 40,
   "metadata": {},
   "outputs": [],
   "source": []
  },
  {
   "cell_type": "code",
   "execution_count": 77,
   "metadata": {},
   "outputs": [],
   "source": [
    "import numpy as np\n",
    "paramlist=np.arange(0.1,1, 0.1).tolist()"
   ]
  },
  {
   "cell_type": "markdown",
   "metadata": {},
   "source": [
    "## Logistic Regression Tunegrid"
   ]
  },
  {
   "cell_type": "code",
   "execution_count": 94,
   "metadata": {},
   "outputs": [],
   "source": [
    "def LRgrid(paramlist=paramlist):\n",
    "    grid = ParamGridBuilder().\\\n",
    "    addGrid(lr_pipe.stages[-1].regParam, paramlist).\\\n",
    "    addGrid(lr_pipe.stages[-1].elasticNetParam, paramlist).\\\n",
    "    build()\n",
    "    all_models = []\n",
    "    for j in range(len(grid)):\n",
    "        print(\"Fitting model {}\".format(j+1))\n",
    "        model = lr_est.fit(training_df, grid[j])\n",
    "        all_models.append(model)\n",
    "    AUC_scores=[evaluator.evaluate(m.transform(validation_df)) for m in all_models]\n",
    "    best_model_idx = np.argmax(AUC_scores)\n",
    "    print(grid[best_model_idx])\n",
    "    best_model=all_models[best_model_idx]\n",
    "    return {'AUC_list':AUC_scores,'Best Model':best_model}\n",
    "    "
   ]
  },
  {
   "cell_type": "code",
   "execution_count": 95,
   "metadata": {},
   "outputs": [
    {
     "name": "stdout",
     "output_type": "stream",
     "text": [
      "Fitting model 1\n",
      "Fitting model 2\n",
      "Fitting model 3\n",
      "Fitting model 4\n",
      "Fitting model 5\n",
      "Fitting model 6\n",
      "Fitting model 7\n",
      "Fitting model 8\n",
      "Fitting model 9\n",
      "Fitting model 10\n",
      "Fitting model 11\n",
      "Fitting model 12\n",
      "Fitting model 13\n",
      "Fitting model 14\n",
      "Fitting model 15\n",
      "Fitting model 16\n",
      "Fitting model 17\n",
      "Fitting model 18\n",
      "Fitting model 19\n",
      "Fitting model 20\n",
      "Fitting model 21\n",
      "Fitting model 22\n",
      "Fitting model 23\n",
      "Fitting model 24\n",
      "Fitting model 25\n",
      "Fitting model 26\n",
      "Fitting model 27\n",
      "Fitting model 28\n",
      "Fitting model 29\n",
      "Fitting model 30\n",
      "Fitting model 31\n",
      "Fitting model 32\n",
      "Fitting model 33\n",
      "Fitting model 34\n",
      "Fitting model 35\n",
      "Fitting model 36\n",
      "Fitting model 37\n",
      "Fitting model 38\n",
      "Fitting model 39\n",
      "Fitting model 40\n",
      "Fitting model 41\n",
      "Fitting model 42\n",
      "Fitting model 43\n",
      "Fitting model 44\n",
      "Fitting model 45\n",
      "Fitting model 46\n",
      "Fitting model 47\n",
      "Fitting model 48\n",
      "Fitting model 49\n",
      "Fitting model 50\n",
      "Fitting model 51\n",
      "Fitting model 52\n",
      "Fitting model 53\n",
      "Fitting model 54\n",
      "Fitting model 55\n",
      "Fitting model 56\n",
      "Fitting model 57\n",
      "Fitting model 58\n",
      "Fitting model 59\n",
      "Fitting model 60\n",
      "Fitting model 61\n",
      "Fitting model 62\n",
      "Fitting model 63\n",
      "Fitting model 64\n",
      "Fitting model 65\n",
      "Fitting model 66\n",
      "Fitting model 67\n",
      "Fitting model 68\n",
      "Fitting model 69\n",
      "Fitting model 70\n",
      "Fitting model 71\n",
      "Fitting model 72\n",
      "Fitting model 73\n",
      "Fitting model 74\n",
      "Fitting model 75\n",
      "Fitting model 76\n",
      "Fitting model 77\n",
      "Fitting model 78\n",
      "Fitting model 79\n",
      "Fitting model 80\n",
      "Fitting model 81\n",
      "{Param(parent='LogisticRegression_dbbc4aeae59b', name='regParam', doc='regularization parameter (>= 0)'): 0.1, Param(parent='LogisticRegression_dbbc4aeae59b', name='elasticNetParam', doc='the ElasticNet mixing parameter, in range [0, 1]. For alpha = 0, the penalty is an L2 penalty. For alpha = 1, it is an L1 penalty'): 0.1}\n"
     ]
    }
   ],
   "source": [
    "lr_dict=LRgrid()"
   ]
  },
  {
   "cell_type": "code",
   "execution_count": 85,
   "metadata": {},
   "outputs": [],
   "source": [
    "best_model=lr_dict['Best Model']\n",
    "#best_model=lr_pipe"
   ]
  },
  {
   "cell_type": "code",
   "execution_count": null,
   "metadata": {},
   "outputs": [],
   "source": [
    "AUC_scores=[evaluator.evaluate(m.transform(validation_df)) for m in all_models]"
   ]
  },
  {
   "cell_type": "code",
   "execution_count": 44,
   "metadata": {},
   "outputs": [],
   "source": [
    "best_model_idx = np.argmax(AUC_scores)"
   ]
  },
  {
   "cell_type": "code",
   "execution_count": 45,
   "metadata": {},
   "outputs": [
    {
     "data": {
      "text/plain": [
       "{Param(parent='LogisticRegression_0e911d91fc10', name='regParam', doc='regularization parameter (>= 0)'): 0.1,\n",
       " Param(parent='LogisticRegression_0e911d91fc10', name='elasticNetParam', doc='the ElasticNet mixing parameter, in range [0, 1]. For alpha = 0, the penalty is an L2 penalty. For alpha = 1, it is an L1 penalty'): 0.1}"
      ]
     },
     "execution_count": 45,
     "metadata": {},
     "output_type": "execute_result"
    }
   ],
   "source": [
    "grid[best_model_idx]"
   ]
  },
  {
   "cell_type": "markdown",
   "metadata": {},
   "source": [
    "### Performance Evaluation"
   ]
  },
  {
   "cell_type": "markdown",
   "metadata": {},
   "source": [
    "Note:- sklearn was used just for the classification report to get the F1 score. It was not used for any modelling purpose."
   ]
  },
  {
   "cell_type": "markdown",
   "metadata": {},
   "source": [
    "{Param(parent='LogisticRegression_0e911d91fc10', name='regParam', doc='regularization parameter (>= 0)'): 0.1,\n",
    " Param(parent='LogisticRegression_0e911d91fc10', name='elasticNetParam', doc='the ElasticNet mixing parameter, in range [0, 1]. For alpha = 0, the penalty is an L2 penalty. For alpha = 1, it is an L1 penalty'): 0.1}"
   ]
  },
  {
   "cell_type": "code",
   "execution_count": 46,
   "metadata": {},
   "outputs": [
    {
     "data": {
      "text/plain": [
       "0.8820336105599562"
      ]
     },
     "execution_count": 46,
     "metadata": {},
     "output_type": "execute_result"
    }
   ],
   "source": [
    "AUC_scores[best_model_idx]"
   ]
  },
  {
   "cell_type": "code",
   "execution_count": 99,
   "metadata": {},
   "outputs": [
    {
     "data": {
      "text/plain": [
       "0.8750436486897271"
      ]
     },
     "execution_count": 99,
     "metadata": {},
     "output_type": "execute_result"
    }
   ],
   "source": [
    "#testing AUC\n",
    "evaluator.evaluate(best_model.transform(testing_df))"
   ]
  },
  {
   "cell_type": "code",
   "execution_count": 86,
   "metadata": {},
   "outputs": [],
   "source": [
    "test_performance=best_model.transform(testing_df).select('Label','prediction').toPandas()"
   ]
  },
  {
   "cell_type": "code",
   "execution_count": 87,
   "metadata": {},
   "outputs": [
    {
     "data": {
      "text/plain": [
       "array([[2264, 1451],\n",
       "       [ 494, 5807]], dtype=int64)"
      ]
     },
     "execution_count": 87,
     "metadata": {},
     "output_type": "execute_result"
    }
   ],
   "source": [
    "from sklearn.metrics import confusion_matrix\n",
    "confusion_matrix(test_performance['Label'],test_performance['prediction'])"
   ]
  },
  {
   "cell_type": "code",
   "execution_count": 88,
   "metadata": {},
   "outputs": [
    {
     "name": "stdout",
     "output_type": "stream",
     "text": [
      "              precision    recall  f1-score   support\n",
      "\n",
      "         0.0       0.82      0.61      0.70      3715\n",
      "         1.0       0.80      0.92      0.86      6301\n",
      "\n",
      "    accuracy                           0.81     10016\n",
      "   macro avg       0.81      0.77      0.78     10016\n",
      "weighted avg       0.81      0.81      0.80     10016\n",
      "\n"
     ]
    }
   ],
   "source": [
    "from sklearn.metrics import classification_report\n",
    "print(classification_report(test_performance['Label'], test_performance['prediction']))"
   ]
  },
  {
   "cell_type": "code",
   "execution_count": 89,
   "metadata": {
    "scrolled": true
   },
   "outputs": [
    {
     "data": {
      "text/plain": [
       "['Shot Length',\n",
       " 'Motion Distribution Variance',\n",
       " 'Frame Difference Distribution Mean',\n",
       " 'Frame Difference Distribution Variance',\n",
       " 'Short time energy Mean',\n",
       " 'Short time energy Variance',\n",
       " 'ZCR Mean',\n",
       " 'SpectralCentroid Mean',\n",
       " 'SpectralCentroid Variance',\n",
       " 'Spectral Flux Variance',\n",
       " 'Fundamental Frequecy Mean',\n",
       " 'Fundamental Frequecy Variance',\n",
       " 'Motion Distribution bin_19',\n",
       " 'Motion Distribution bin_29',\n",
       " 'Motion Distribution bin_58',\n",
       " 'Frame Difference bin_59',\n",
       " 'Frame Difference bin_62',\n",
       " 'Frame Difference bin_63',\n",
       " 'Frame Difference bin_70',\n",
       " 'Frame Difference bin_71',\n",
       " 'Frame Difference bin_75',\n",
       " 'Frame Difference bin_76',\n",
       " 'Frame Difference bin_77',\n",
       " 'Frame Difference bin_79',\n",
       " 'Frame Difference bin_80',\n",
       " 'Text Area Distribution bin_92',\n",
       " 'Text Area Distribution bin_103',\n",
       " 'Text Area Distribution bin_104',\n",
       " 'Text Area Distribution bin_117',\n",
       " 'Text Area Distribution bin_119',\n",
       " 'Bag Audio Words bin_572',\n",
       " 'Bag Audio Words bin_573',\n",
       " 'Bag Audio Words bin_623',\n",
       " 'Bag Audio Words bin_816']"
      ]
     },
     "execution_count": 89,
     "metadata": {},
     "output_type": "execute_result"
    }
   ],
   "source": [
    "#Non Zero Coefficients\n",
    "non_zerobool=[i!=0 for i in best_model.stages[-1].coefficients.toArray().tolist()]\n",
    "l1=list(compress(feat_list,non_zerobool))\n",
    "l1"
   ]
  },
  {
   "cell_type": "markdown",
   "metadata": {},
   "source": [
    "### Important Features sorted according to absolute betas in decresing order"
   ]
  },
  {
   "cell_type": "code",
   "execution_count": 90,
   "metadata": {},
   "outputs": [],
   "source": [
    "coeff_features=list(zip(list(compress(best_model.stages[-1].coefficients.toArray().tolist(),non_zerobool)),l1))"
   ]
  },
  {
   "cell_type": "code",
   "execution_count": 92,
   "metadata": {},
   "outputs": [
    {
     "data": {
      "text/html": [
       "<div>\n",
       "<style scoped>\n",
       "    .dataframe tbody tr th:only-of-type {\n",
       "        vertical-align: middle;\n",
       "    }\n",
       "\n",
       "    .dataframe tbody tr th {\n",
       "        vertical-align: top;\n",
       "    }\n",
       "\n",
       "    .dataframe thead th {\n",
       "        text-align: right;\n",
       "    }\n",
       "</style>\n",
       "<table border=\"1\" class=\"dataframe\">\n",
       "  <thead>\n",
       "    <tr style=\"text-align: right;\">\n",
       "      <th></th>\n",
       "      <th>Feature</th>\n",
       "      <th>Beta Coefficient</th>\n",
       "      <th>Absolute Beta Coefficient</th>\n",
       "    </tr>\n",
       "  </thead>\n",
       "  <tbody>\n",
       "    <tr>\n",
       "      <th>4</th>\n",
       "      <td>Short time energy Mean</td>\n",
       "      <td>0.376150</td>\n",
       "      <td>0.376150</td>\n",
       "    </tr>\n",
       "    <tr>\n",
       "      <th>8</th>\n",
       "      <td>SpectralCentroid Variance</td>\n",
       "      <td>0.357620</td>\n",
       "      <td>0.357620</td>\n",
       "    </tr>\n",
       "    <tr>\n",
       "      <th>5</th>\n",
       "      <td>Short time energy Variance</td>\n",
       "      <td>-0.323611</td>\n",
       "      <td>0.323611</td>\n",
       "    </tr>\n",
       "    <tr>\n",
       "      <th>15</th>\n",
       "      <td>Frame Difference bin_59</td>\n",
       "      <td>-0.314582</td>\n",
       "      <td>0.314582</td>\n",
       "    </tr>\n",
       "    <tr>\n",
       "      <th>9</th>\n",
       "      <td>Spectral Flux Variance</td>\n",
       "      <td>-0.272933</td>\n",
       "      <td>0.272933</td>\n",
       "    </tr>\n",
       "    <tr>\n",
       "      <th>30</th>\n",
       "      <td>Bag Audio Words bin_572</td>\n",
       "      <td>0.179397</td>\n",
       "      <td>0.179397</td>\n",
       "    </tr>\n",
       "    <tr>\n",
       "      <th>11</th>\n",
       "      <td>Fundamental Frequecy Variance</td>\n",
       "      <td>0.164319</td>\n",
       "      <td>0.164319</td>\n",
       "    </tr>\n",
       "    <tr>\n",
       "      <th>10</th>\n",
       "      <td>Fundamental Frequecy Mean</td>\n",
       "      <td>-0.146189</td>\n",
       "      <td>0.146189</td>\n",
       "    </tr>\n",
       "    <tr>\n",
       "      <th>0</th>\n",
       "      <td>Shot Length</td>\n",
       "      <td>-0.117725</td>\n",
       "      <td>0.117725</td>\n",
       "    </tr>\n",
       "    <tr>\n",
       "      <th>31</th>\n",
       "      <td>Bag Audio Words bin_573</td>\n",
       "      <td>0.110539</td>\n",
       "      <td>0.110539</td>\n",
       "    </tr>\n",
       "    <tr>\n",
       "      <th>1</th>\n",
       "      <td>Motion Distribution Variance</td>\n",
       "      <td>0.094966</td>\n",
       "      <td>0.094966</td>\n",
       "    </tr>\n",
       "    <tr>\n",
       "      <th>12</th>\n",
       "      <td>Motion Distribution bin_19</td>\n",
       "      <td>-0.093266</td>\n",
       "      <td>0.093266</td>\n",
       "    </tr>\n",
       "    <tr>\n",
       "      <th>26</th>\n",
       "      <td>Text Area Distribution bin_103</td>\n",
       "      <td>-0.088275</td>\n",
       "      <td>0.088275</td>\n",
       "    </tr>\n",
       "    <tr>\n",
       "      <th>29</th>\n",
       "      <td>Text Area Distribution bin_119</td>\n",
       "      <td>-0.081493</td>\n",
       "      <td>0.081493</td>\n",
       "    </tr>\n",
       "    <tr>\n",
       "      <th>14</th>\n",
       "      <td>Motion Distribution bin_58</td>\n",
       "      <td>0.073011</td>\n",
       "      <td>0.073011</td>\n",
       "    </tr>\n",
       "    <tr>\n",
       "      <th>27</th>\n",
       "      <td>Text Area Distribution bin_104</td>\n",
       "      <td>-0.068349</td>\n",
       "      <td>0.068349</td>\n",
       "    </tr>\n",
       "    <tr>\n",
       "      <th>32</th>\n",
       "      <td>Bag Audio Words bin_623</td>\n",
       "      <td>0.056748</td>\n",
       "      <td>0.056748</td>\n",
       "    </tr>\n",
       "    <tr>\n",
       "      <th>17</th>\n",
       "      <td>Frame Difference bin_63</td>\n",
       "      <td>-0.045290</td>\n",
       "      <td>0.045290</td>\n",
       "    </tr>\n",
       "    <tr>\n",
       "      <th>22</th>\n",
       "      <td>Frame Difference bin_77</td>\n",
       "      <td>-0.042696</td>\n",
       "      <td>0.042696</td>\n",
       "    </tr>\n",
       "    <tr>\n",
       "      <th>20</th>\n",
       "      <td>Frame Difference bin_75</td>\n",
       "      <td>-0.041867</td>\n",
       "      <td>0.041867</td>\n",
       "    </tr>\n",
       "    <tr>\n",
       "      <th>7</th>\n",
       "      <td>SpectralCentroid Mean</td>\n",
       "      <td>0.040945</td>\n",
       "      <td>0.040945</td>\n",
       "    </tr>\n",
       "    <tr>\n",
       "      <th>21</th>\n",
       "      <td>Frame Difference bin_76</td>\n",
       "      <td>-0.030323</td>\n",
       "      <td>0.030323</td>\n",
       "    </tr>\n",
       "    <tr>\n",
       "      <th>2</th>\n",
       "      <td>Frame Difference Distribution Mean</td>\n",
       "      <td>-0.026109</td>\n",
       "      <td>0.026109</td>\n",
       "    </tr>\n",
       "    <tr>\n",
       "      <th>33</th>\n",
       "      <td>Bag Audio Words bin_816</td>\n",
       "      <td>-0.020893</td>\n",
       "      <td>0.020893</td>\n",
       "    </tr>\n",
       "    <tr>\n",
       "      <th>18</th>\n",
       "      <td>Frame Difference bin_70</td>\n",
       "      <td>-0.019153</td>\n",
       "      <td>0.019153</td>\n",
       "    </tr>\n",
       "    <tr>\n",
       "      <th>28</th>\n",
       "      <td>Text Area Distribution bin_117</td>\n",
       "      <td>0.017314</td>\n",
       "      <td>0.017314</td>\n",
       "    </tr>\n",
       "    <tr>\n",
       "      <th>19</th>\n",
       "      <td>Frame Difference bin_71</td>\n",
       "      <td>-0.015305</td>\n",
       "      <td>0.015305</td>\n",
       "    </tr>\n",
       "    <tr>\n",
       "      <th>3</th>\n",
       "      <td>Frame Difference Distribution Variance</td>\n",
       "      <td>0.012782</td>\n",
       "      <td>0.012782</td>\n",
       "    </tr>\n",
       "    <tr>\n",
       "      <th>24</th>\n",
       "      <td>Frame Difference bin_80</td>\n",
       "      <td>-0.008274</td>\n",
       "      <td>0.008274</td>\n",
       "    </tr>\n",
       "    <tr>\n",
       "      <th>25</th>\n",
       "      <td>Text Area Distribution bin_92</td>\n",
       "      <td>-0.004094</td>\n",
       "      <td>0.004094</td>\n",
       "    </tr>\n",
       "    <tr>\n",
       "      <th>16</th>\n",
       "      <td>Frame Difference bin_62</td>\n",
       "      <td>-0.003302</td>\n",
       "      <td>0.003302</td>\n",
       "    </tr>\n",
       "    <tr>\n",
       "      <th>13</th>\n",
       "      <td>Motion Distribution bin_29</td>\n",
       "      <td>0.001611</td>\n",
       "      <td>0.001611</td>\n",
       "    </tr>\n",
       "    <tr>\n",
       "      <th>23</th>\n",
       "      <td>Frame Difference bin_79</td>\n",
       "      <td>-0.001446</td>\n",
       "      <td>0.001446</td>\n",
       "    </tr>\n",
       "    <tr>\n",
       "      <th>6</th>\n",
       "      <td>ZCR Mean</td>\n",
       "      <td>-0.001361</td>\n",
       "      <td>0.001361</td>\n",
       "    </tr>\n",
       "  </tbody>\n",
       "</table>\n",
       "</div>"
      ],
      "text/plain": [
       "                                   Feature  Beta Coefficient  \\\n",
       "4                   Short time energy Mean          0.376150   \n",
       "8                SpectralCentroid Variance          0.357620   \n",
       "5               Short time energy Variance         -0.323611   \n",
       "15                 Frame Difference bin_59         -0.314582   \n",
       "9                   Spectral Flux Variance         -0.272933   \n",
       "30                 Bag Audio Words bin_572          0.179397   \n",
       "11           Fundamental Frequecy Variance          0.164319   \n",
       "10               Fundamental Frequecy Mean         -0.146189   \n",
       "0                              Shot Length         -0.117725   \n",
       "31                 Bag Audio Words bin_573          0.110539   \n",
       "1             Motion Distribution Variance          0.094966   \n",
       "12              Motion Distribution bin_19         -0.093266   \n",
       "26          Text Area Distribution bin_103         -0.088275   \n",
       "29          Text Area Distribution bin_119         -0.081493   \n",
       "14              Motion Distribution bin_58          0.073011   \n",
       "27          Text Area Distribution bin_104         -0.068349   \n",
       "32                 Bag Audio Words bin_623          0.056748   \n",
       "17                 Frame Difference bin_63         -0.045290   \n",
       "22                 Frame Difference bin_77         -0.042696   \n",
       "20                 Frame Difference bin_75         -0.041867   \n",
       "7                    SpectralCentroid Mean          0.040945   \n",
       "21                 Frame Difference bin_76         -0.030323   \n",
       "2       Frame Difference Distribution Mean         -0.026109   \n",
       "33                 Bag Audio Words bin_816         -0.020893   \n",
       "18                 Frame Difference bin_70         -0.019153   \n",
       "28          Text Area Distribution bin_117          0.017314   \n",
       "19                 Frame Difference bin_71         -0.015305   \n",
       "3   Frame Difference Distribution Variance          0.012782   \n",
       "24                 Frame Difference bin_80         -0.008274   \n",
       "25           Text Area Distribution bin_92         -0.004094   \n",
       "16                 Frame Difference bin_62         -0.003302   \n",
       "13              Motion Distribution bin_29          0.001611   \n",
       "23                 Frame Difference bin_79         -0.001446   \n",
       "6                                 ZCR Mean         -0.001361   \n",
       "\n",
       "    Absolute Beta Coefficient  \n",
       "4                    0.376150  \n",
       "8                    0.357620  \n",
       "5                    0.323611  \n",
       "15                   0.314582  \n",
       "9                    0.272933  \n",
       "30                   0.179397  \n",
       "11                   0.164319  \n",
       "10                   0.146189  \n",
       "0                    0.117725  \n",
       "31                   0.110539  \n",
       "1                    0.094966  \n",
       "12                   0.093266  \n",
       "26                   0.088275  \n",
       "29                   0.081493  \n",
       "14                   0.073011  \n",
       "27                   0.068349  \n",
       "32                   0.056748  \n",
       "17                   0.045290  \n",
       "22                   0.042696  \n",
       "20                   0.041867  \n",
       "7                    0.040945  \n",
       "21                   0.030323  \n",
       "2                    0.026109  \n",
       "33                   0.020893  \n",
       "18                   0.019153  \n",
       "28                   0.017314  \n",
       "19                   0.015305  \n",
       "3                    0.012782  \n",
       "24                   0.008274  \n",
       "25                   0.004094  \n",
       "16                   0.003302  \n",
       "13                   0.001611  \n",
       "23                   0.001446  \n",
       "6                    0.001361  "
      ]
     },
     "execution_count": 92,
     "metadata": {},
     "output_type": "execute_result"
    }
   ],
   "source": [
    "\n",
    "imp_features=pd.DataFrame()\n",
    "imp_features[\"Feature\"]=[i[1] for i in coeff_features]\n",
    "imp_features[\"Beta Coefficient\"]=[i[0] for i in coeff_features]\n",
    "imp_features[\"Absolute Beta Coefficient\"]=[abs(i[0]) for i in coeff_features]\n",
    "imp_features.sort_values(by='Absolute Beta Coefficient', ascending=False)"
   ]
  },
  {
   "cell_type": "code",
   "execution_count": 114,
   "metadata": {},
   "outputs": [],
   "source": [
    "#saved Logistic Regression model\n",
    "best_model.save('bestmodel')"
   ]
  },
  {
   "cell_type": "code",
   "execution_count": 13,
   "metadata": {},
   "outputs": [],
   "source": [
    "#best_model=PipelineModel.load('bestmodel')"
   ]
  },
  {
   "cell_type": "markdown",
   "metadata": {},
   "source": [
    "# Random Forest"
   ]
  },
  {
   "cell_type": "markdown",
   "metadata": {},
   "source": [
    "- [Index](#Index)"
   ]
  },
  {
   "cell_type": "code",
   "execution_count": 117,
   "metadata": {},
   "outputs": [],
   "source": [
    "#create pipeline\n",
    "rf = RandomForestClassifier(labelCol='Label', featuresCol='features',numTrees=60)\n",
    "va=feature.VectorAssembler(inputCols=feat_list,outputCol='features')\n",
    "rf_pipeline = Pipeline(stages=[va, rf]).fit(training_df)"
   ]
  },
  {
   "cell_type": "code",
   "execution_count": 43,
   "metadata": {},
   "outputs": [],
   "source": [
    "rf_est=Pipeline(stages=[va, rf])"
   ]
  },
  {
   "cell_type": "markdown",
   "metadata": {},
   "source": [
    "### Define TuneGrid"
   ]
  },
  {
   "cell_type": "code",
   "execution_count": 44,
   "metadata": {},
   "outputs": [],
   "source": [
    "def randomForest(paramlist=[20,40,60,80,100,120,140,160,180,200]):\n",
    "    from pyspark.ml.tuning import CrossValidator, ParamGridBuilder\n",
    "    grid = ParamGridBuilder().\\\n",
    "    addGrid(rf_pipeline.stages[-1].numTrees, paramlist).\\\n",
    "    build()\n",
    "    all_models = []\n",
    "    for j in range(len(grid)):\n",
    "        print(\"Fitting model {}\".format(j+1))\n",
    "        model = rf_est.fit(training_df, grid[j])\n",
    "        all_models.append(model)\n",
    "    AUC_scores_rf=[evaluator.evaluate(m.transform(validation_df)) for m in all_models]\n",
    "    AUC_scores_training_rf=[evaluator.evaluate(m.transform(training_df)) for m in all_models]\n",
    "    AUC_both=[AUC_scores_training_rf,AUC_scores_rf]\n",
    "    best_model_idx_rf = np.argmax(AUC_scores_rf)\n",
    "    best_model_rf=all_models[best_model_idx_rf]\n",
    "    print(grid[best_model_idx_rf])\n",
    "    return {'AUC':AUC_both,'bestmodel':best_model_rf}\n",
    "    \n",
    "    \n",
    "    \n",
    "    "
   ]
  },
  {
   "cell_type": "code",
   "execution_count": 45,
   "metadata": {},
   "outputs": [
    {
     "name": "stdout",
     "output_type": "stream",
     "text": [
      "Fitting model 1\n",
      "Fitting model 2\n",
      "Fitting model 3\n",
      "Fitting model 4\n",
      "Fitting model 5\n",
      "Fitting model 6\n",
      "Fitting model 7\n",
      "Fitting model 8\n",
      "Fitting model 9\n",
      "Fitting model 10\n",
      "{Param(parent='RandomForestClassifier_15ac2b838285', name='numTrees', doc='Number of trees to train (>= 1)'): 60}\n"
     ]
    }
   ],
   "source": [
    "rmodel=randomForest()"
   ]
  },
  {
   "cell_type": "markdown",
   "metadata": {},
   "source": [
    "### Graphical representation of hyperparameter tuning"
   ]
  },
  {
   "cell_type": "code",
   "execution_count": 70,
   "metadata": {},
   "outputs": [],
   "source": [
    "rf_AUC=pd.DataFrame({'validation_AUC':rmodel['AUC'][1]},index=[20,40,60,80,100,120,140,160,180,200])\n",
    "\n"
   ]
  },
  {
   "cell_type": "code",
   "execution_count": 71,
   "metadata": {},
   "outputs": [
    {
     "data": {
      "text/plain": [
       "Int64Index([20, 40, 60, 80, 100, 120, 140, 160, 180, 200], dtype='int64', name='Trees')"
      ]
     },
     "execution_count": 71,
     "metadata": {},
     "output_type": "execute_result"
    }
   ],
   "source": [
    "rf_AUC.index.rename('Trees')"
   ]
  },
  {
   "cell_type": "code",
   "execution_count": 71,
   "metadata": {},
   "outputs": [],
   "source": [
    "import matplotlib.pyplot as plt"
   ]
  },
  {
   "cell_type": "code",
   "execution_count": 76,
   "metadata": {},
   "outputs": [
    {
     "data": {
      "text/plain": [
       "Text(0, 0.5, 'Valdiation AUC score')"
      ]
     },
     "execution_count": 76,
     "metadata": {},
     "output_type": "execute_result"
    },
    {
     "data": {
      "image/png": "[encoded data removed]",
      "text/plain": [
       "<Figure size 432x288 with 1 Axes>"
      ]
     },
     "metadata": {
      "needs_background": "light"
     },
     "output_type": "display_data"
    }
   ],
   "source": [
    "%matplotlib inline\n",
    "rf_AUC.plot.line()\n",
    "plt.xlabel('Trees')\n",
    "plt.ylabel('Valdiation AUC score')"
   ]
  },
  {
   "cell_type": "code",
   "execution_count": 118,
   "metadata": {},
   "outputs": [],
   "source": [
    "#rf_best=rmodel['bestmodel']\n",
    "#rf_best=rf_pipeline"
   ]
  },
  {
   "cell_type": "code",
   "execution_count": 120,
   "metadata": {},
   "outputs": [],
   "source": [
    "#save the best rf model \n",
    "rf_best.save('best_model_rf')"
   ]
  },
  {
   "cell_type": "code",
   "execution_count": 15,
   "metadata": {},
   "outputs": [],
   "source": [
    "rf_best=PipelineModel.load('best_model_rf')"
   ]
  },
  {
   "cell_type": "markdown",
   "metadata": {},
   "source": [
    "### Performance Evaluation"
   ]
  },
  {
   "cell_type": "code",
   "execution_count": 60,
   "metadata": {},
   "outputs": [
    {
     "data": {
      "text/plain": [
       "0.8819837907738572"
      ]
     },
     "execution_count": 60,
     "metadata": {},
     "output_type": "execute_result"
    }
   ],
   "source": [
    "#testing AUC\n",
    "evaluator.evaluate(rf_best.transform(testing_df))"
   ]
  },
  {
   "cell_type": "code",
   "execution_count": 61,
   "metadata": {},
   "outputs": [
    {
     "data": {
      "text/plain": [
       "0.8800724330723372"
      ]
     },
     "execution_count": 61,
     "metadata": {},
     "output_type": "execute_result"
    }
   ],
   "source": [
    "evaluator.evaluate(rf_best.transform(validation_df))"
   ]
  },
  {
   "cell_type": "code",
   "execution_count": 79,
   "metadata": {},
   "outputs": [],
   "source": [
    "test_performance_rf=rf_best.transform(testing_df).select('Label','prediction').toPandas()"
   ]
  },
  {
   "cell_type": "code",
   "execution_count": 83,
   "metadata": {},
   "outputs": [
    {
     "data": {
      "text/plain": [
       "array([[2194, 1521],\n",
       "       [ 421, 5880]], dtype=int64)"
      ]
     },
     "execution_count": 83,
     "metadata": {},
     "output_type": "execute_result"
    }
   ],
   "source": [
    "from sklearn.metrics import confusion_matrix\n",
    "confusion_matrix(test_performance_rf['Label'],test_performance_rf['prediction'])"
   ]
  },
  {
   "cell_type": "code",
   "execution_count": 82,
   "metadata": {},
   "outputs": [
    {
     "name": "stdout",
     "output_type": "stream",
     "text": [
      "              precision    recall  f1-score   support\n",
      "\n",
      "         0.0       0.84      0.59      0.69      3715\n",
      "         1.0       0.79      0.93      0.86      6301\n",
      "\n",
      "    accuracy                           0.81     10016\n",
      "   macro avg       0.82      0.76      0.78     10016\n",
      "weighted avg       0.81      0.81      0.80     10016\n",
      "\n"
     ]
    }
   ],
   "source": [
    "\n",
    "from sklearn.metrics import classification_report\n",
    "print(classification_report(test_performance_rf['Label'], test_performance_rf['prediction']))"
   ]
  },
  {
   "cell_type": "markdown",
   "metadata": {},
   "source": [
    "### Feature Importance( Random Forest)"
   ]
  },
  {
   "cell_type": "code",
   "execution_count": 93,
   "metadata": {},
   "outputs": [
    {
     "data": {
      "text/plain": [
       "SparseVector(75, {0: 0.0826, 1: 0.0023, 2: 0.0072, 3: 0.0066, 4: 0.0008, 5: 0.0539, 6: 0.1307, 7: 0.0153, 8: 0.0009, 9: 0.0362, 10: 0.1068, 11: 0.01, 12: 0.111, 13: 0.0562, 14: 0.0279, 15: 0.0024, 16: 0.0237, 17: 0.0108, 18: 0.0032, 19: 0.0004, 20: 0.0001, 21: 0.0001, 22: 0.0004, 23: 0.0, 24: 0.0002, 25: 0.0, 26: 0.0013, 27: 0.0002, 28: 0.0012, 29: 0.0019, 30: 0.0008, 31: 0.0015, 32: 0.0017, 33: 0.0014, 34: 0.0001, 35: 0.001, 36: 0.001, 37: 0.0004, 38: 0.0006, 39: 0.0005, 40: 0.0001, 41: 0.0001, 42: 0.0003, 43: 0.0069, 44: 0.0793, 45: 0.0136, 46: 0.0028, 47: 0.0014, 48: 0.0021, 49: 0.0002, 50: 0.0002, 51: 0.0007, 52: 0.0012, 53: 0.0032, 54: 0.0004, 55: 0.0013, 56: 0.0037, 57: 0.0009, 58: 0.0004, 59: 0.0019, 60: 0.0027, 61: 0.0019, 62: 0.0203, 63: 0.0126, 64: 0.0, 65: 0.0007, 66: 0.0042, 67: 0.001, 68: 0.0003, 69: 0.0754, 70: 0.0449, 71: 0.0009, 72: 0.0111, 73: 0.0})"
      ]
     },
     "execution_count": 93,
     "metadata": {},
     "output_type": "execute_result"
    }
   ],
   "source": [
    "rf_best.stages[-1].featureImportances"
   ]
  },
  {
   "cell_type": "code",
   "execution_count": 59,
   "metadata": {},
   "outputs": [
    {
     "data": {
      "text/html": [
       "<div>\n",
       "<style scoped>\n",
       "    .dataframe tbody tr th:only-of-type {\n",
       "        vertical-align: middle;\n",
       "    }\n",
       "\n",
       "    .dataframe tbody tr th {\n",
       "        vertical-align: top;\n",
       "    }\n",
       "\n",
       "    .dataframe thead th {\n",
       "        text-align: right;\n",
       "    }\n",
       "</style>\n",
       "<table border=\"1\" class=\"dataframe\">\n",
       "  <thead>\n",
       "    <tr style=\"text-align: right;\">\n",
       "      <th></th>\n",
       "      <th>columns</th>\n",
       "      <th>feature importance</th>\n",
       "    </tr>\n",
       "  </thead>\n",
       "  <tbody>\n",
       "    <tr>\n",
       "      <th>6</th>\n",
       "      <td>Short time energy Variance</td>\n",
       "      <td>0.170662</td>\n",
       "    </tr>\n",
       "    <tr>\n",
       "      <th>10</th>\n",
       "      <td>SpectralCentroid Variance</td>\n",
       "      <td>0.117192</td>\n",
       "    </tr>\n",
       "    <tr>\n",
       "      <th>12</th>\n",
       "      <td>Spectral Flux Variance</td>\n",
       "      <td>0.116419</td>\n",
       "    </tr>\n",
       "    <tr>\n",
       "      <th>44</th>\n",
       "      <td>Frame Difference bin_59</td>\n",
       "      <td>0.090060</td>\n",
       "    </tr>\n",
       "    <tr>\n",
       "      <th>0</th>\n",
       "      <td>Shot Length</td>\n",
       "      <td>0.080903</td>\n",
       "    </tr>\n",
       "    <tr>\n",
       "      <th>69</th>\n",
       "      <td>Bag Audio Words bin_572</td>\n",
       "      <td>0.058476</td>\n",
       "    </tr>\n",
       "    <tr>\n",
       "      <th>13</th>\n",
       "      <td>Fundamental Frequecy Mean</td>\n",
       "      <td>0.048282</td>\n",
       "    </tr>\n",
       "    <tr>\n",
       "      <th>5</th>\n",
       "      <td>Short time energy Mean</td>\n",
       "      <td>0.043489</td>\n",
       "    </tr>\n",
       "    <tr>\n",
       "      <th>62</th>\n",
       "      <td>Text Area Distribution bin_103</td>\n",
       "      <td>0.029587</td>\n",
       "    </tr>\n",
       "    <tr>\n",
       "      <th>9</th>\n",
       "      <td>SpectralCentroid Mean</td>\n",
       "      <td>0.028696</td>\n",
       "    </tr>\n",
       "    <tr>\n",
       "      <th>16</th>\n",
       "      <td>Motion Distribution bin_19</td>\n",
       "      <td>0.028119</td>\n",
       "    </tr>\n",
       "    <tr>\n",
       "      <th>70</th>\n",
       "      <td>Bag Audio Words bin_573</td>\n",
       "      <td>0.024812</td>\n",
       "    </tr>\n",
       "    <tr>\n",
       "      <th>7</th>\n",
       "      <td>ZCR Mean</td>\n",
       "      <td>0.018933</td>\n",
       "    </tr>\n",
       "    <tr>\n",
       "      <th>63</th>\n",
       "      <td>Text Area Distribution bin_104</td>\n",
       "      <td>0.014741</td>\n",
       "    </tr>\n",
       "    <tr>\n",
       "      <th>3</th>\n",
       "      <td>Frame Difference Distribution Mean</td>\n",
       "      <td>0.012895</td>\n",
       "    </tr>\n",
       "    <tr>\n",
       "      <th>11</th>\n",
       "      <td>Spectral Flux Mean</td>\n",
       "      <td>0.011135</td>\n",
       "    </tr>\n",
       "    <tr>\n",
       "      <th>72</th>\n",
       "      <td>Bag Audio Words bin_816</td>\n",
       "      <td>0.009524</td>\n",
       "    </tr>\n",
       "    <tr>\n",
       "      <th>45</th>\n",
       "      <td>Frame Difference bin_60</td>\n",
       "      <td>0.009478</td>\n",
       "    </tr>\n",
       "    <tr>\n",
       "      <th>14</th>\n",
       "      <td>Fundamental Frequecy Variance</td>\n",
       "      <td>0.009095</td>\n",
       "    </tr>\n",
       "    <tr>\n",
       "      <th>43</th>\n",
       "      <td>Motion Distribution bin_58</td>\n",
       "      <td>0.006253</td>\n",
       "    </tr>\n",
       "  </tbody>\n",
       "</table>\n",
       "</div>"
      ],
      "text/plain": [
       "                               columns  feature importance\n",
       "6           Short time energy Variance            0.170662\n",
       "10           SpectralCentroid Variance            0.117192\n",
       "12              Spectral Flux Variance            0.116419\n",
       "44             Frame Difference bin_59            0.090060\n",
       "0                          Shot Length            0.080903\n",
       "69             Bag Audio Words bin_572            0.058476\n",
       "13           Fundamental Frequecy Mean            0.048282\n",
       "5               Short time energy Mean            0.043489\n",
       "62      Text Area Distribution bin_103            0.029587\n",
       "9                SpectralCentroid Mean            0.028696\n",
       "16          Motion Distribution bin_19            0.028119\n",
       "70             Bag Audio Words bin_573            0.024812\n",
       "7                             ZCR Mean            0.018933\n",
       "63      Text Area Distribution bin_104            0.014741\n",
       "3   Frame Difference Distribution Mean            0.012895\n",
       "11                  Spectral Flux Mean            0.011135\n",
       "72             Bag Audio Words bin_816            0.009524\n",
       "45             Frame Difference bin_60            0.009478\n",
       "14       Fundamental Frequecy Variance            0.009095\n",
       "43          Motion Distribution bin_58            0.006253"
      ]
     },
     "execution_count": 59,
     "metadata": {},
     "output_type": "execute_result"
    }
   ],
   "source": [
    "pd.DataFrame({'columns':validation_df.columns[:-1],'feature importance':rf_best.stages[-1].featureImportances}).sort_values('feature importance',ascending=False)[:20]"
   ]
  },
  {
   "cell_type": "markdown",
   "metadata": {},
   "source": [
    "### SVM Model( Not used for final analysis)"
   ]
  },
  {
   "cell_type": "code",
   "execution_count": 105,
   "metadata": {},
   "outputs": [],
   "source": [
    "svm = LinearSVC(maxIter=5, regParam=0.01,featuresCol='scaled',labelCol='Label')\n",
    "\n",
    "pipe2tv=Pipeline(stages=[feature.VectorAssembler(inputCols=feat_list,outputCol='features'),feature.StandardScaler(inputCol='features',outputCol='scaled',withMean=True)])\n",
    "svm_pipeline = Pipeline(stages=[pipe2tv, svm]).fit(training_df)\n",
    "svm_est=Pipeline(stages=[pipe2tv, svm])"
   ]
  },
  {
   "cell_type": "code",
   "execution_count": 108,
   "metadata": {},
   "outputs": [],
   "source": [
    "def SVM(paramlist=[0.1,0.2,0.3,0.4,0.5,0.6,0.7,0.8,0.9]):\n",
    "    from pyspark.ml.tuning import CrossValidator, ParamGridBuilder\n",
    "    grid = ParamGridBuilder().\\\n",
    "    addGrid(svm_pipeline.stages[-1].regParam, paramlist).\\\n",
    "    build()\n",
    "    all_models = []\n",
    "    for j in range(len(grid)):\n",
    "        print(\"Fitting model {}\".format(j+1))\n",
    "        model = svm_est.fit(training_df, grid[j])\n",
    "        all_models.append(model)\n",
    "    AUC_scores_svm=[evaluator.evaluate(m.transform(validation_df)) for m in all_models]\n",
    "    AUC_scores_training_svm=[evaluator.evaluate(m.transform(training_df)) for m in all_models]\n",
    "    AUC_both_svm=[AUC_scores_training_svm,AUC_scores_svm]\n",
    "    best_model_idx_svm = np.argmax(AUC_scores_svm)\n",
    "    best_model_svm=all_models[best_model_idx_svm]\n",
    "    print(grid[best_model_idx_svm])\n",
    "    return {'AUC':AUC_both_svm,'bestmodel':best_model_svm}\n",
    "    \n",
    "    "
   ]
  },
  {
   "cell_type": "code",
   "execution_count": 109,
   "metadata": {},
   "outputs": [
    {
     "name": "stdout",
     "output_type": "stream",
     "text": [
      "Fitting model 1\n",
      "Fitting model 2\n",
      "Fitting model 3\n",
      "Fitting model 4\n",
      "Fitting model 5\n",
      "Fitting model 6\n",
      "Fitting model 7\n",
      "Fitting model 8\n",
      "Fitting model 9\n",
      "{Param(parent='LinearSVC_b77908c69542', name='regParam', doc='regularization parameter (>= 0)'): 0.2}\n"
     ]
    }
   ],
   "source": [
    "svm_dict=SVM()"
   ]
  },
  {
   "cell_type": "markdown",
   "metadata": {},
   "source": [
    "# Gradient Boosting Trees"
   ]
  },
  {
   "cell_type": "markdown",
   "metadata": {},
   "source": [
    "- [Index](#Index)"
   ]
  },
  {
   "cell_type": "code",
   "execution_count": 44,
   "metadata": {},
   "outputs": [],
   "source": [
    "gbt=GBTClassifier( labelCol='Label')\n",
    "va=feature.VectorAssembler(inputCols=feat_list,outputCol='features')\n",
    "gbt_pipeline = Pipeline(stages=[va, gbt]).fit(training_df)"
   ]
  },
  {
   "cell_type": "code",
   "execution_count": 55,
   "metadata": {},
   "outputs": [],
   "source": [
    "gbt_est=Pipeline(stages=[va, gbt])"
   ]
  },
  {
   "cell_type": "markdown",
   "metadata": {},
   "source": [
    "### TuneGrid"
   ]
  },
  {
   "cell_type": "code",
   "execution_count": 59,
   "metadata": {},
   "outputs": [],
   "source": [
    "def GBT(steplist=[0.05,0.1,0.15,0.2,0.25,0.3],depthlist=[3,4,5,6,7]):\n",
    "    from pyspark.ml.tuning import CrossValidator, ParamGridBuilder\n",
    "    grid = ParamGridBuilder().\\\n",
    "    addGrid(gbt_pipeline.stages[-1].stepSize, steplist).\\\n",
    "    addGrid(gbt_pipeline.stages[-1].maxDepth,depthlist).\\\n",
    "    build()\n",
    "    all_models = []\n",
    "    for j in range(len(grid)):\n",
    "        print(\"Fitting model {}\".format(j+1))\n",
    "        model = gbt_est.fit(training_df, grid[j])\n",
    "        all_models.append(model)\n",
    "    AUC_scores_gbt=[evaluator.evaluate(m.transform(validation_df)) for m in all_models]\n",
    "    best_model_idx_gbt = np.argmax(AUC_scores_gbt)\n",
    "    best_model_gbt=all_models[best_model_idx_gbt]\n",
    "    print(grid[best_model_idx_gbt])\n",
    "    return {'AUC':AUC_scores_gbt,'bestmodel':best_model_gbt}\n",
    "    "
   ]
  },
  {
   "cell_type": "code",
   "execution_count": 60,
   "metadata": {},
   "outputs": [
    {
     "name": "stdout",
     "output_type": "stream",
     "text": [
      "Fitting model 1\n",
      "Fitting model 2\n",
      "Fitting model 3\n",
      "Fitting model 4\n",
      "Fitting model 5\n",
      "Fitting model 6\n",
      "Fitting model 7\n",
      "Fitting model 8\n",
      "Fitting model 9\n",
      "Fitting model 10\n",
      "Fitting model 11\n",
      "Fitting model 12\n",
      "Fitting model 13\n",
      "Fitting model 14\n",
      "Fitting model 15\n",
      "Fitting model 16\n",
      "Fitting model 17\n",
      "Fitting model 18\n",
      "Fitting model 19\n",
      "Fitting model 20\n",
      "Fitting model 21\n",
      "Fitting model 22\n",
      "Fitting model 23\n",
      "Fitting model 24\n",
      "Fitting model 25\n",
      "Fitting model 26\n",
      "Fitting model 27\n",
      "Fitting model 28\n",
      "Fitting model 29\n",
      "Fitting model 30\n",
      "{Param(parent='GBTClassifier_ac0e460cea75', name='stepSize', doc='Step size (a.k.a. learning rate) in interval (0, 1] for shrinking the contribution of each estimator.'): 0.3, Param(parent='GBTClassifier_ac0e460cea75', name='maxDepth', doc='Maximum depth of the tree. (>= 0) E.g., depth 0 means 1 leaf node; depth 1 means 1 internal node + 2 leaf nodes.'): 7}\n"
     ]
    }
   ],
   "source": [
    "gbt_dict=GBT()"
   ]
  },
  {
   "cell_type": "code",
   "execution_count": 63,
   "metadata": {},
   "outputs": [],
   "source": [
    "#best_model_gbt=gbt_dict['bestmodel']"
   ]
  },
  {
   "cell_type": "code",
   "execution_count": 121,
   "metadata": {},
   "outputs": [],
   "source": [
    "best_model_gbt.save('best_model_gbt')"
   ]
  },
  {
   "cell_type": "code",
   "execution_count": 29,
   "metadata": {},
   "outputs": [],
   "source": [
    "best_model_gbt=PipelineModel.load('best_model_gbt')"
   ]
  },
  {
   "cell_type": "markdown",
   "metadata": {},
   "source": [
    "### Performance Evaluation"
   ]
  },
  {
   "cell_type": "code",
   "execution_count": 64,
   "metadata": {},
   "outputs": [
    {
     "data": {
      "text/plain": [
       "0.9453194611176545"
      ]
     },
     "execution_count": 64,
     "metadata": {},
     "output_type": "execute_result"
    }
   ],
   "source": [
    "evaluator.evaluate(best_model_gbt.transform(validation_df))"
   ]
  },
  {
   "cell_type": "code",
   "execution_count": 30,
   "metadata": {},
   "outputs": [
    {
     "data": {
      "text/plain": [
       "0.9527911606143646"
      ]
     },
     "execution_count": 30,
     "metadata": {},
     "output_type": "execute_result"
    }
   ],
   "source": [
    "evaluator.evaluate(best_model_gbt.transform(testing_df))"
   ]
  },
  {
   "cell_type": "code",
   "execution_count": 65,
   "metadata": {},
   "outputs": [
    {
     "data": {
      "text/plain": [
       "array([[3041,  674],\n",
       "       [ 524, 5777]], dtype=int64)"
      ]
     },
     "execution_count": 65,
     "metadata": {},
     "output_type": "execute_result"
    }
   ],
   "source": [
    "test_performance_gbt=best_model_gbt.transform(testing_df).select('Label','prediction').toPandas()\n",
    "from sklearn.metrics import confusion_matrix\n",
    "confusion_matrix(test_performance_gbt['Label'],test_performance_gbt['prediction'])\n"
   ]
  },
  {
   "cell_type": "code",
   "execution_count": 66,
   "metadata": {},
   "outputs": [
    {
     "name": "stdout",
     "output_type": "stream",
     "text": [
      "              precision    recall  f1-score   support\n",
      "\n",
      "         0.0       0.85      0.82      0.84      3715\n",
      "         1.0       0.90      0.92      0.91      6301\n",
      "\n",
      "    accuracy                           0.88     10016\n",
      "   macro avg       0.87      0.87      0.87     10016\n",
      "weighted avg       0.88      0.88      0.88     10016\n",
      "\n"
     ]
    }
   ],
   "source": [
    "from sklearn.metrics import classification_report\n",
    "print(classification_report(test_performance_gbt['Label'], test_performance_gbt['prediction']))"
   ]
  },
  {
   "cell_type": "markdown",
   "metadata": {},
   "source": [
    "### Graphical representation of hyperparameter tuning"
   ]
  },
  {
   "cell_type": "code",
   "execution_count": 68,
   "metadata": {},
   "outputs": [],
   "source": [
    "param=[]\n",
    "for i in [0.05,0.1,0.15,0.2,0.25,0.3]:\n",
    "    for j in [3,4,5,6,7]:\n",
    "        param.append((i,j))\n",
    "        "
   ]
  },
  {
   "cell_type": "code",
   "execution_count": 73,
   "metadata": {},
   "outputs": [],
   "source": [
    "gbt_AUC=pd.DataFrame({'validation_AUC':gbt_dict['AUC']},index=param)\n"
   ]
  },
  {
   "cell_type": "code",
   "execution_count": 74,
   "metadata": {},
   "outputs": [
    {
     "data": {
      "text/plain": [
       "Text(0, 0.5, 'Valdiation AUC score')"
      ]
     },
     "execution_count": 74,
     "metadata": {},
     "output_type": "execute_result"
    },
    {
     "data": {
      "image/png": "[encoded data removed]",
      "text/plain": [
       "<Figure size 432x288 with 1 Axes>"
      ]
     },
     "metadata": {
      "needs_background": "light"
     },
     "output_type": "display_data"
    }
   ],
   "source": [
    "%matplotlib inline\n",
    "gbt_AUC.plot.line()\n",
    "plt.xlabel('Hyper-parameters')\n",
    "plt.ylabel('Valdiation AUC score')"
   ]
  },
  {
   "cell_type": "markdown",
   "metadata": {},
   "source": [
    "#### Number of trees"
   ]
  },
  {
   "cell_type": "code",
   "execution_count": 108,
   "metadata": {},
   "outputs": [
    {
     "data": {
      "text/plain": [
       "20"
      ]
     },
     "execution_count": 108,
     "metadata": {},
     "output_type": "execute_result"
    }
   ],
   "source": [
    "best_model_gbt.stages[-1].getNumTrees"
   ]
  },
  {
   "cell_type": "markdown",
   "metadata": {},
   "source": [
    "### Feature Importance( GBT)"
   ]
  },
  {
   "cell_type": "code",
   "execution_count": 31,
   "metadata": {},
   "outputs": [
    {
     "data": {
      "text/plain": [
       "SparseVector(75, {0: 0.0146, 1: 0.0092, 2: 0.0141, 3: 0.0126, 4: 0.0158, 5: 0.0416, 6: 0.0553, 7: 0.0229, 8: 0.0134, 9: 0.0137, 10: 0.0249, 11: 0.0095, 12: 0.017, 13: 0.0248, 14: 0.0218, 15: 0.0111, 16: 0.0246, 17: 0.0091, 18: 0.0058, 19: 0.0071, 20: 0.0036, 21: 0.0031, 22: 0.0057, 23: 0.0054, 24: 0.0046, 25: 0.0034, 26: 0.0102, 27: 0.0044, 28: 0.0051, 29: 0.009, 30: 0.0021, 31: 0.0068, 32: 0.0029, 33: 0.0014, 34: 0.003, 35: 0.0007, 36: 0.0033, 37: 0.0038, 38: 0.0053, 39: 0.0015, 40: 0.0046, 41: 0.0055, 42: 0.0059, 43: 0.0137, 44: 0.0529, 45: 0.01, 46: 0.0068, 47: 0.0054, 48: 0.0083, 49: 0.008, 50: 0.0118, 51: 0.01, 52: 0.0084, 53: 0.0072, 54: 0.0097, 55: 0.0144, 56: 0.0089, 57: 0.0127, 58: 0.0072, 59: 0.0171, 60: 0.0317, 61: 0.0221, 62: 0.0286, 63: 0.0418, 64: 0.0194, 65: 0.0167, 66: 0.0211, 67: 0.0276, 68: 0.0174, 69: 0.0262, 70: 0.029, 71: 0.0121, 72: 0.0192, 73: 0.0027, 74: 0.0018})"
      ]
     },
     "execution_count": 31,
     "metadata": {},
     "output_type": "execute_result"
    }
   ],
   "source": [
    "best_model_gbt.stages[-1].featureImportances"
   ]
  },
  {
   "cell_type": "code",
   "execution_count": 39,
   "metadata": {},
   "outputs": [
    {
     "data": {
      "text/html": [
       "<div>\n",
       "<style scoped>\n",
       "    .dataframe tbody tr th:only-of-type {\n",
       "        vertical-align: middle;\n",
       "    }\n",
       "\n",
       "    .dataframe tbody tr th {\n",
       "        vertical-align: top;\n",
       "    }\n",
       "\n",
       "    .dataframe thead th {\n",
       "        text-align: right;\n",
       "    }\n",
       "</style>\n",
       "<table border=\"1\" class=\"dataframe\">\n",
       "  <thead>\n",
       "    <tr style=\"text-align: right;\">\n",
       "      <th></th>\n",
       "      <th>columns</th>\n",
       "      <th>feature importance</th>\n",
       "    </tr>\n",
       "  </thead>\n",
       "  <tbody>\n",
       "    <tr>\n",
       "      <th>6</th>\n",
       "      <td>Short time energy Variance</td>\n",
       "      <td>0.055342</td>\n",
       "    </tr>\n",
       "    <tr>\n",
       "      <th>44</th>\n",
       "      <td>Frame Difference bin_59</td>\n",
       "      <td>0.052945</td>\n",
       "    </tr>\n",
       "    <tr>\n",
       "      <th>63</th>\n",
       "      <td>Text Area Distribution bin_104</td>\n",
       "      <td>0.041775</td>\n",
       "    </tr>\n",
       "    <tr>\n",
       "      <th>5</th>\n",
       "      <td>Short time energy Mean</td>\n",
       "      <td>0.041550</td>\n",
       "    </tr>\n",
       "    <tr>\n",
       "      <th>60</th>\n",
       "      <td>Text Area Distribution bin_92</td>\n",
       "      <td>0.031658</td>\n",
       "    </tr>\n",
       "    <tr>\n",
       "      <th>70</th>\n",
       "      <td>Bag Audio Words bin_573</td>\n",
       "      <td>0.028977</td>\n",
       "    </tr>\n",
       "    <tr>\n",
       "      <th>62</th>\n",
       "      <td>Text Area Distribution bin_103</td>\n",
       "      <td>0.028603</td>\n",
       "    </tr>\n",
       "    <tr>\n",
       "      <th>67</th>\n",
       "      <td>Text Area Distribution bin_119</td>\n",
       "      <td>0.027595</td>\n",
       "    </tr>\n",
       "    <tr>\n",
       "      <th>69</th>\n",
       "      <td>Bag Audio Words bin_572</td>\n",
       "      <td>0.026196</td>\n",
       "    </tr>\n",
       "    <tr>\n",
       "      <th>10</th>\n",
       "      <td>SpectralCentroid Variance</td>\n",
       "      <td>0.024857</td>\n",
       "    </tr>\n",
       "    <tr>\n",
       "      <th>13</th>\n",
       "      <td>Fundamental Frequecy Mean</td>\n",
       "      <td>0.024792</td>\n",
       "    </tr>\n",
       "    <tr>\n",
       "      <th>16</th>\n",
       "      <td>Motion Distribution bin_19</td>\n",
       "      <td>0.024649</td>\n",
       "    </tr>\n",
       "    <tr>\n",
       "      <th>7</th>\n",
       "      <td>ZCR Mean</td>\n",
       "      <td>0.022919</td>\n",
       "    </tr>\n",
       "    <tr>\n",
       "      <th>61</th>\n",
       "      <td>Text Area Distribution bin_102</td>\n",
       "      <td>0.022059</td>\n",
       "    </tr>\n",
       "    <tr>\n",
       "      <th>14</th>\n",
       "      <td>Fundamental Frequecy Variance</td>\n",
       "      <td>0.021783</td>\n",
       "    </tr>\n",
       "    <tr>\n",
       "      <th>66</th>\n",
       "      <td>Text Area Distribution bin_118</td>\n",
       "      <td>0.021124</td>\n",
       "    </tr>\n",
       "    <tr>\n",
       "      <th>64</th>\n",
       "      <td>Text Area Distribution bin_107</td>\n",
       "      <td>0.019366</td>\n",
       "    </tr>\n",
       "    <tr>\n",
       "      <th>72</th>\n",
       "      <td>Bag Audio Words bin_816</td>\n",
       "      <td>0.019248</td>\n",
       "    </tr>\n",
       "    <tr>\n",
       "      <th>68</th>\n",
       "      <td>Bag Audio Words bin_491</td>\n",
       "      <td>0.017406</td>\n",
       "    </tr>\n",
       "    <tr>\n",
       "      <th>59</th>\n",
       "      <td>Frame Difference bin_84</td>\n",
       "      <td>0.017140</td>\n",
       "    </tr>\n",
       "  </tbody>\n",
       "</table>\n",
       "</div>"
      ],
      "text/plain": [
       "                           columns  feature importance\n",
       "6       Short time energy Variance            0.055342\n",
       "44         Frame Difference bin_59            0.052945\n",
       "63  Text Area Distribution bin_104            0.041775\n",
       "5           Short time energy Mean            0.041550\n",
       "60   Text Area Distribution bin_92            0.031658\n",
       "70         Bag Audio Words bin_573            0.028977\n",
       "62  Text Area Distribution bin_103            0.028603\n",
       "67  Text Area Distribution bin_119            0.027595\n",
       "69         Bag Audio Words bin_572            0.026196\n",
       "10       SpectralCentroid Variance            0.024857\n",
       "13       Fundamental Frequecy Mean            0.024792\n",
       "16      Motion Distribution bin_19            0.024649\n",
       "7                         ZCR Mean            0.022919\n",
       "61  Text Area Distribution bin_102            0.022059\n",
       "14   Fundamental Frequecy Variance            0.021783\n",
       "66  Text Area Distribution bin_118            0.021124\n",
       "64  Text Area Distribution bin_107            0.019366\n",
       "72         Bag Audio Words bin_816            0.019248\n",
       "68         Bag Audio Words bin_491            0.017406\n",
       "59         Frame Difference bin_84            0.017140"
      ]
     },
     "execution_count": 39,
     "metadata": {},
     "output_type": "execute_result"
    }
   ],
   "source": [
    "pd.DataFrame({'columns':validation_df.columns[:-1],'feature importance':best_model_gbt.stages[-1].featureImportances}).sort_values('feature importance',ascending=False)[:20]"
   ]
  },
  {
   "cell_type": "code",
   "execution_count": 128,
   "metadata": {},
   "outputs": [],
   "source": [
    "# testing_df_unseen_pandas.to_csv('C:/Users/mihir/Desktop/sem2/IST718/dataset/unseen.csv')"
   ]
  },
  {
   "cell_type": "code",
   "execution_count": 24,
   "metadata": {},
   "outputs": [],
   "source": [
    "# testing_df_unseen_pandas=pd.read_csv('C:/Users/mihir/Desktop/sem2/IST718/dataset/unseen.csv')"
   ]
  },
  {
   "cell_type": "code",
   "execution_count": 5,
   "metadata": {},
   "outputs": [],
   "source": [
    "# #INITIALISE\n",
    "# tv_spark_pandas=pd.read_csv('C:/Users/mihir/Desktop/sem2/IST718/dataset/tv_spark_df.csv')\n",
    "# tv_spark_df = sqlContext.createDataFrame(tv_spark_pandas)\n",
    "\n",
    "# testing_df_unseen_pandas=pd.read_csv('C:/Users/mihir/Desktop/sem2/IST718/dataset/unseen.csv')\n",
    "\n",
    "\n",
    "    "
   ]
  },
  {
   "cell_type": "markdown",
   "metadata": {},
   "source": [
    "# Demo"
   ]
  },
  {
   "cell_type": "markdown",
   "metadata": {},
   "source": [
    "- [Index](#Index)"
   ]
  },
  {
   "cell_type": "markdown",
   "metadata": {},
   "source": [
    "### Run all the cells below and call the UI function for the demo"
   ]
  },
  {
   "cell_type": "code",
   "execution_count": 8,
   "metadata": {},
   "outputs": [],
   "source": [
    "def get_prediction(b=None):\n",
    "    clear_output()\n",
    "    random=random_datapoint()\n",
    "    \n",
    "#Change the value for Shot Length by uncommemting the line below\n",
    "\n",
    "    #random['Shot Length']=10\n",
    "    print(random.head())\n",
    "    tv_unseen_random= sqlContext.createDataFrame(random)\n",
    "    global model_buttons\n",
    "    print(\"\")\n",
    "    print(\" Model Chosen is %s\"%model_buttons.value)\n",
    "    print(\"\")\n",
    "    if model_buttons.value==\"Logistic_regression\":\n",
    "        return best_model.transform(tv_unseen_random).select('Label','prediction').show()\n",
    "    if model_buttons.value==\"Random_Forest\":\n",
    "        return rf_best.transform(tv_unseen_random).select('Label','prediction').show()\n",
    "    if model_buttons.value==\"Gradient_Boosting\":\n",
    "        return best_model_gbt.transform(tv_unseen_random).select('Label','prediction').show()\n",
    "    \n",
    "  \n",
    "\n"
   ]
  },
  {
   "cell_type": "code",
   "execution_count": 10,
   "metadata": {},
   "outputs": [],
   "source": [
    "  model_buttons = widgets.ToggleButtons(\n",
    "    options=['Logistic_regression', 'Random_Forest', 'Gradient_Boosting'],\n",
    "    description='Model:',\n",
    ")"
   ]
  },
  {
   "cell_type": "code",
   "execution_count": 11,
   "metadata": {},
   "outputs": [
    {
     "data": {
      "application/vnd.jupyter.widget-view+json": {
       "model_id": "ec7eda9ecff944e6b7baf9e4b2f87656",
       "version_major": 2,
       "version_minor": 0
      },
      "text/plain": [
       "Button(description='Predict', style=ButtonStyle())"
      ]
     },
     "metadata": {},
     "output_type": "display_data"
    }
   ],
   "source": [
    "button = widgets.Button(\n",
    "    description='Predict',\n",
    ")\n",
    "button"
   ]
  },
  {
   "cell_type": "code",
   "execution_count": 12,
   "metadata": {},
   "outputs": [],
   "source": [
    "@button.on_click\n",
    "def trigger(b):\n",
    "    get_prediction()"
   ]
  },
  {
   "cell_type": "code",
   "execution_count": 40,
   "metadata": {},
   "outputs": [],
   "source": [
    "tab = widgets.Tab(children=[model_buttons])\n",
    "tab.set_title(0, 'Choose a Model')"
   ]
  },
  {
   "cell_type": "code",
   "execution_count": 15,
   "metadata": {},
   "outputs": [],
   "source": [
    "def UI():\n",
    "    return VBox(children=[tab, button])"
   ]
  },
  {
   "cell_type": "code",
   "execution_count": 55,
   "metadata": {},
   "outputs": [
    {
     "name": "stdout",
     "output_type": "stream",
     "text": [
      "    Shot Length  Motion Distribution Mean  Motion Distribution Variance  \\\n",
      "87           10                  1.396926                      0.788251   \n",
      "\n",
      "    Frame Difference Distribution Mean  \\\n",
      "87                            6.725489   \n",
      "\n",
      "    Frame Difference Distribution Variance  Short time energy Mean  \\\n",
      "87                                 6.66836                0.024931   \n",
      "\n",
      "    Short time energy Variance  ZCR Mean  ZCR Variance  SpectralCentroid Mean  \\\n",
      "87                    0.012927  0.083333      0.040474              3608.0908   \n",
      "\n",
      "    ...  Text Area Distribution bin_118  Text Area Distribution bin_119  \\\n",
      "87  ...                        0.159063                        0.127946   \n",
      "\n",
      "    Bag Audio Words bin_491  Bag Audio Words bin_572  Bag Audio Words bin_573  \\\n",
      "87                 0.006757                 0.135135                 0.263514   \n",
      "\n",
      "    Bag Audio Words bin_623  Bag Audio Words bin_816  Edge Change Ratio Mean  \\\n",
      "87                 0.013514                 0.006757                0.638116   \n",
      "\n",
      "    Edge Change Ratio Variance  Label  \n",
      "87                    0.736148    1.0  \n",
      "\n",
      "[1 rows x 76 columns]\n",
      "\n",
      " Model Chosen is Gradient_Boosting\n",
      "\n",
      "+-----+----------+\n",
      "|Label|prediction|\n",
      "+-----+----------+\n",
      "|  1.0|       1.0|\n",
      "+-----+----------+\n",
      "\n"
     ]
    }
   ],
   "source": [
    "UI()\n"
   ]
  },
  {
   "cell_type": "code",
   "execution_count": null,
   "metadata": {},
   "outputs": [],
   "source": []
  }
 ],
 "metadata": {
  "kernelspec": {
   "display_name": "Python 3",
   "language": "python",
   "name": "python3"
  },
  "language_info": {
   "codemirror_mode": {
    "name": "ipython",
    "version": 3
   },
   "file_extension": ".py",
   "mimetype": "text/x-python",
   "name": "python",
   "nbconvert_exporter": "python",
   "pygments_lexer": "ipython3",
   "version": "3.6.7"
  }
 },
 "nbformat": 4,
 "nbformat_minor": 2
}
